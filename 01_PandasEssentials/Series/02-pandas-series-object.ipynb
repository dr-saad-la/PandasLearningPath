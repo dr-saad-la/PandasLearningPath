{
 "cells": [
  {
   "cell_type": "markdown",
   "id": "cb459ef3-dd6c-49f3-8a1c-b6b2f84d3334",
   "metadata": {},
   "source": [
    "# Pandas Series Object\n",
    "\n",
    "---\n",
    "\n",
    "**Author:** Dr. Saad Laouadi  \n",
    "**Copyright:** Dr. Saad Laouadi  \n",
    "\n",
    "---\n",
    "\n",
    "## License\n",
    "\n",
    "**This material is intended for educational purposes only and may not be used directly in courses, video recordings, or similar without prior consent from the author. When using or referencing this material, proper credit must be attributed to the author.**\n",
    "\n",
    "```text\n",
    "#**************************************************************************\n",
    "#* (C) Copyright 2024 by Dr. Saad Laouadi. All Rights Reserved.           *\n",
    "#**************************************************************************                                                                    \n",
    "#* DISCLAIMER: The author has used their best efforts in preparing        *\n",
    "#* this content. These efforts include development, research,             *\n",
    "#* and testing of the theories and programs to determine their            *\n",
    "#* effectiveness. The author makes no warranty of any kind,               *\n",
    "#* expressed or implied, with regard to these programs or                 *\n",
    "#* to the documentation contained within. The author shall not            *\n",
    "#* be liable in any event for incidental or consequential damages         *\n",
    "#* in connection with, or arising out of, the furnishing,                 *\n",
    "#* performance, or use of these programs.                                 *\n",
    "#*                                                                        *\n",
    "#* This content is intended for tutorials, online articles,               *\n",
    "#* and other educational purposes.                                        *\n",
    "#**************************************************************************\n",
    "```"
   ]
  },
  {
   "cell_type": "code",
   "execution_count": 1,
   "id": "2dac6313-0c9f-490f-8c06-38caddf5c1af",
   "metadata": {},
   "outputs": [],
   "source": [
    "# Env Setup\n",
    "import pandas as pd\n",
    "import numpy as np"
   ]
  },
  {
   "cell_type": "markdown",
   "id": "e38682b0-cb58-4dae-a1b1-3d94eb9098b7",
   "metadata": {},
   "source": [
    "## Pandas Series Object\n",
    "\n",
    "A **Pandas Series** is a one-dimensional labeled array capable of holding any data type (integers, floats, strings, etc.). It is similar to a column in an Excel spreadsheet or a database table but with more flexible and powerful indexing capabilities.\n",
    "\n",
    "### Syntax\n",
    "```python\n",
    "pandas.Series(data=None, index=None, dtype=None, name=None, copy=False, fastpath=False)\n",
    "```\n",
    "\n",
    "## Parameters\n",
    "\n",
    "1. **data (array-like, Iterable, dict, or scalar):**\n",
    "   - This represents the actual data for the Series. It can be a list, NumPy array, dictionary, scalar, or any array-like structure.\n",
    "   - **Example:** `[1, 2, 3, 4]`, `np.array([10, 20, 30])`, or `{'a': 1, 'b': 2}`.\n",
    "\n",
    "2. **index (array-like or Index, optional):**\n",
    "   - Labels for the Series’ data points. If not provided, it will default to integers ranging from 0 to n-1 (where n is the length of the data).\n",
    "   - **Example:** `['a', 'b', 'c', 'd']`.\n",
    "\n",
    "3. **dtype (dtype, optional):**\n",
    "   - Specifies the data type of the Series. If not specified, it will be inferred from the data. You can force the data to be of a specific type.\n",
    "   - **Example:** `dtype='int64'`, `dtype='float32'`.\n",
    "\n",
    "4. **name (str, optional):**\n",
    "   - A name for the Series. This is useful for identifying the Series when working with multiple Series objects, especially in a DataFrame.\n",
    "   - **Example:** `\"Stock Prices\"`.\n",
    "\n",
    "5. **copy (bool, default False):**\n",
    "   - If True, a copy of the data will be made, even if the input is already a Series or array.\n",
    "   - **Example:** `copy=True`.\n",
    "\n",
    "6. **fastpath (bool, default False):**\n",
    "   - For internal use by Pandas. This argument is used to bypass some internal checks for performance optimization in specific scenarios.\n",
    "\n",
    "## Return Value\n",
    "\n",
    "The `pandas.Series()` constructor returns a Pandas Series object, which is a one-dimensional labeled array. The Series object provides various methods and functionalities, such as data selection, filtering, and operations like aggregation and transformation.\n"
   ]
  },
  {
   "cell_type": "markdown",
   "id": "aebd9568-9208-43de-8f34-8aa0bd820911",
   "metadata": {},
   "source": [
    "### Examples"
   ]
  },
  {
   "cell_type": "code",
   "execution_count": 2,
   "id": "b6506d07-e7ee-42e3-89d0-a61a70f46d4e",
   "metadata": {},
   "outputs": [
    {
     "name": "stdout",
     "output_type": "stream",
     "text": [
      "Item_1     61\n",
      "Item_2     24\n",
      "Item_3     81\n",
      "Item_4     70\n",
      "Item_5     30\n",
      "Item_6     92\n",
      "Item_7     96\n",
      "Item_8     84\n",
      "Item_9     84\n",
      "Item_10    97\n",
      "Name: Random Data, dtype: int64\n"
     ]
    }
   ],
   "source": [
    "# Creating a Series with random data\n",
    "np.random.seed(42)  # Set a seed for reproducibility\n",
    "random_data = np.random.randint(10, 100, size=10)  # Generate 10 random integers between 10 and 100\n",
    "\n",
    "# Creating an index for the Series (Optional: You can use string labels or numbers)\n",
    "index_labels = [f'Item_{i}' for i in range(1, 11)]\n",
    "\n",
    "# Creating the Pandas Series with random data\n",
    "random_series = pd.Series(data=random_data, index=index_labels, name='Random Data')\n",
    "\n",
    "# Displaying the Series\n",
    "print(random_series)"
   ]
  },
  {
   "cell_type": "markdown",
   "id": "272973ce-e60f-45dd-ad37-ee198ee145e2",
   "metadata": {},
   "source": [
    "### Real World Example"
   ]
  },
  {
   "cell_type": "code",
   "execution_count": 3,
   "id": "20db5869-84a0-42d6-ae2e-2137b9549ebb",
   "metadata": {},
   "outputs": [
    {
     "name": "stdout",
     "output_type": "stream",
     "text": [
      "Apple     100\n",
      "Google    200\n",
      "Amazon    150\n",
      "Tesla     300\n",
      "Name: Stock Prices, dtype: int64\n"
     ]
    }
   ],
   "source": [
    "# Creating a Pandas Series\n",
    "stock_prices = pd.Series([100, 200, 150, 300], \n",
    "                         index=['Apple', 'Google', 'Amazon', 'Tesla'],\n",
    "                         name='Stock Prices')\n",
    "\n",
    "# Displaying the Series\n",
    "print(stock_prices)"
   ]
  },
  {
   "cell_type": "markdown",
   "id": "61766617-f42d-47de-8e8b-4d4ff2fd126a",
   "metadata": {},
   "source": [
    "In this example:\n",
    "- **Data**: Stock prices for different companies.\n",
    "- **Index**: Company names.\n",
    "- **Name**: \"Stock Prices\" to label the Series.\n",
    "- **dtype**: Inferred as int64 based on the input data."
   ]
  }
 ],
 "metadata": {
  "kernelspec": {
   "display_name": "Python3.12",
   "language": "python",
   "name": "python3"
  },
  "language_info": {
   "codemirror_mode": {
    "name": "ipython",
    "version": 3
   },
   "file_extension": ".py",
   "mimetype": "text/x-python",
   "name": "python",
   "nbconvert_exporter": "python",
   "pygments_lexer": "ipython3",
   "version": "3.12.3"
  }
 },
 "nbformat": 4,
 "nbformat_minor": 5
}
