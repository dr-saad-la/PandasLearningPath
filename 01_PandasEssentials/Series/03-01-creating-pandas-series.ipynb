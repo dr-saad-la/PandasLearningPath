{
 "cells": [
  {
   "cell_type": "markdown",
   "id": "c3a97ff5-1760-44d7-a839-60c73b06b05d",
   "metadata": {},
   "source": [
    "# Creating and Updating Pandas Series\n",
    "\n",
    "---\n",
    "\n",
    "**Author:** Dr. Saad Laouadi  \n",
    "**Copyright:** Dr. Saad Laouadi  \n",
    "\n",
    "---\n",
    "\n",
    "## License\n",
    "\n",
    "**This material is intended for educational purposes only and may not be used directly in courses, video recordings, or similar without prior consent from the author. When using or referencing this material, proper credit must be attributed to the author.**\n",
    "\n",
    "```text\n",
    "#**************************************************************************\n",
    "#* (C) Copyright 2024 by Dr. Saad Laouadi. All Rights Reserved.           *\n",
    "#**************************************************************************                                                                    \n",
    "#* DISCLAIMER: The author has used their best efforts in preparing        *\n",
    "#* this content. These efforts include development, research,             *\n",
    "#* and testing of the theories and programs to determine their            *\n",
    "#* effectiveness. The author makes no warranty of any kind,               *\n",
    "#* expressed or implied, with regard to these programs or                 *\n",
    "#* to the documentation contained within. The author shall not            *\n",
    "#* be liable in any event for incidental or consequential damages         *\n",
    "#* in connection with, or arising out of, the furnishing,                 *\n",
    "#* performance, or use of these programs.                                 *\n",
    "#*                                                                        *\n",
    "#* This content is intended for tutorials, online articles,               *\n",
    "#* and other educational purposes.                                        *\n",
    "#**************************************************************************\n",
    "```"
   ]
  },
  {
   "cell_type": "code",
   "execution_count": 1,
   "id": "5d429858-f2cd-4207-bfdb-8cf8ac9c9672",
   "metadata": {},
   "outputs": [],
   "source": [
    "# Environment Setup\n",
    "from datetime import datetime\n",
    "import numpy as np\n",
    "import pandas as pd"
   ]
  },
  {
   "cell_type": "markdown",
   "id": "d977427b-d074-4239-af86-5069432b0592",
   "metadata": {},
   "source": [
    "## Introduction\n",
    "\n",
    "A Pandas Series can be used to handle various data types and is often accompanied by metadata such as labels (index) and a name. We’ll use an example of an inventory management system for a store, where each item’s quantity and year of restock is tracked.\n",
    "\n",
    "### Store Inventory Management as a Pandas Series\n",
    "Let’s consider a store inventory where stock levels of items need to be tracked over time, and we want to retrieve the metadata for reporting purposes.\n",
    "\n",
    "Imagine that you are responsible for keeping track of how many units of each item are in stock. Using Pandas Series, you can:\n",
    "\n",
    "- Store the stock data (number of units available).\n",
    "- Label each item with its name (Laptop, Smartphone, etc.).\n",
    "- Add a name to the Series for clarity in reporting.\n",
    "\n",
    "This approach is more scalable and structured compared to using basic Python data structures like lists and dictionaries."
   ]
  },
  {
   "cell_type": "markdown",
   "id": "b3111916-2afd-4037-b74c-9bc0a0340a87",
   "metadata": {},
   "source": [
    "### Examole\n",
    "In this example, we assume we are managing the stock levels of different items, and we want to track the number of units in stock for each item:"
   ]
  },
  {
   "cell_type": "code",
   "execution_count": 2,
   "id": "f1f4f8c6-a29b-4692-95ba-606b408f6ce7",
   "metadata": {},
   "outputs": [
    {
     "name": "stdout",
     "output_type": "stream",
     "text": [
      "Laptop        120\n",
      "Smartphone    200\n",
      "Tablet         80\n",
      "Headphones     50\n",
      "Smartwatch    150\n",
      "Name: Store Inventory, dtype: int64\n"
     ]
    }
   ],
   "source": [
    "# Create a Pandas Series to represent stock levels of items\n",
    "stock_levels = pd.Series(\n",
    "    data=[120, 200, 80, 50, 150],\n",
    "    index=['Laptop', 'Smartphone', 'Tablet', 'Headphones', 'Smartwatch'],\n",
    "    name='Store Inventory'\n",
    ")\n",
    "\n",
    "print(stock_levels)"
   ]
  },
  {
   "cell_type": "markdown",
   "id": "1f42fd88-9f77-444a-9b3a-432a4b303654",
   "metadata": {},
   "source": [
    "**Explanation**:\n",
    "- Data: The number of units in stock for each item.\n",
    "- Index: The labels for each item (e.g., Laptop, Smartphone).\n",
    "- Name: The name of the Series is \"Store Inventory\" which describes the context.\n",
    "\n",
    "### Extracting Metadata\n",
    "Once you have created a Pandas Series, you can easily extract various pieces of metadata such as the name, the index (labels), and the values stored in the Series.\n",
    "\n",
    "#### Extracting the Name\n",
    "You can retrieve the name of the Series by using the .name attribute:"
   ]
  },
  {
   "cell_type": "code",
   "execution_count": 3,
   "id": "4784d260-2181-4418-80e3-6e9a19a54375",
   "metadata": {},
   "outputs": [
    {
     "name": "stdout",
     "output_type": "stream",
     "text": [
      "Series Name: Store Inventory\n"
     ]
    }
   ],
   "source": [
    "# Get the name of the Series\n",
    "series_name = stock_levels.name\n",
    "print(f\"Series Name: {series_name}\")"
   ]
  },
  {
   "cell_type": "markdown",
   "id": "d8cf2274-ae4f-448f-8b3a-140a688e5b52",
   "metadata": {},
   "source": [
    "#### Extracting the Index (Labels)\n",
    "The index represents the labels for the data points. You can access the index with the .index attribute:"
   ]
  },
  {
   "cell_type": "code",
   "execution_count": 4,
   "id": "a2c32d08-9399-4ddd-988f-c47935e0c6ff",
   "metadata": {},
   "outputs": [
    {
     "name": "stdout",
     "output_type": "stream",
     "text": [
      "Index (Labels): Index(['Laptop', 'Smartphone', 'Tablet', 'Headphones', 'Smartwatch'], dtype='object')\n"
     ]
    }
   ],
   "source": [
    "# Get the index (labels)\n",
    "series_index = stock_levels.index\n",
    "print(f\"Index (Labels): {series_index}\")"
   ]
  },
  {
   "cell_type": "markdown",
   "id": "95574b55-e82a-494d-bb38-711dec0438d1",
   "metadata": {},
   "source": [
    "#### Extracting the Values\n",
    "The actual data stored in the Series can be accessed using the .values attribute:"
   ]
  },
  {
   "cell_type": "code",
   "execution_count": 5,
   "id": "1a028256-f6ef-4a83-b4c1-f58db7024a2b",
   "metadata": {},
   "outputs": [
    {
     "name": "stdout",
     "output_type": "stream",
     "text": [
      "Values (Stock Levels): [120 200  80  50 150]\n"
     ]
    }
   ],
   "source": [
    "# Get the values in the Series\n",
    "series_values = stock_levels.values\n",
    "print(f\"Values (Stock Levels): {series_values}\")"
   ]
  },
  {
   "cell_type": "markdown",
   "id": "c7b6bed3-1b6d-46c5-8ec8-57906867ebc4",
   "metadata": {},
   "source": [
    "#### Combining Metadata Extraction\n",
    "Here’s how you can combine all the metadata extraction in a single block:"
   ]
  },
  {
   "cell_type": "code",
   "execution_count": 6,
   "id": "a4ca1fcc-98fd-4b87-96eb-8982aa4c86de",
   "metadata": {},
   "outputs": [
    {
     "name": "stdout",
     "output_type": "stream",
     "text": [
      "Series Name: Store Inventory\n",
      "Index (Labels): Index(['Laptop', 'Smartphone', 'Tablet', 'Headphones', 'Smartwatch'], dtype='object')\n",
      "Values (Stock Levels): [120 200  80  50 150]\n"
     ]
    }
   ],
   "source": [
    "# Extract metadata from the Series\n",
    "print(f\"Series Name: {stock_levels.name}\")\n",
    "print(f\"Index (Labels): {stock_levels.index}\")\n",
    "print(f\"Values (Stock Levels): {stock_levels.values}\")"
   ]
  },
  {
   "cell_type": "markdown",
   "id": "bca651e7-6c25-430b-9dd8-ab731bb385be",
   "metadata": {},
   "source": [
    "## Creating a Pandas Series from Different Data Types\n",
    "\n",
    "A Pandas Series can be created from various data structures such as lists, dictionaries, NumPy arrays, or scalar values. Below are examples of how to generate a Series from each data type along with randomly generated numbers for demonstration.\n",
    "\n",
    "### 1. **Creating a Series from a List**\n",
    "A list is one of the most common ways to create a Pandas Series. "
   ]
  },
  {
   "cell_type": "code",
   "execution_count": 7,
   "id": "ee114c15-0fe4-4824-91ba-d96b627b681c",
   "metadata": {},
   "outputs": [
    {
     "name": "stdout",
     "output_type": "stream",
     "text": [
      "0    10\n",
      "1    20\n",
      "2    30\n",
      "3    40\n",
      "4    50\n",
      "Name: Series from List, dtype: int64\n"
     ]
    }
   ],
   "source": [
    "# Creating a Series from a list of random integers\n",
    "data_list = [10, 20, 30, 40, 50]\n",
    "series_from_list = pd.Series(data_list, name=\"Series from List\")\n",
    "\n",
    "# Display the Series\n",
    "print(series_from_list)"
   ]
  },
  {
   "cell_type": "markdown",
   "id": "887af935-51de-4678-9fe2-675895df97aa",
   "metadata": {},
   "source": [
    "### 2. Creating a Series from a NumPy Array\n",
    "\n",
    "If you’re working with numerical data, NumPy arrays are often used to create a Pandas Series."
   ]
  },
  {
   "cell_type": "code",
   "execution_count": 8,
   "id": "94f3501d-c0b6-448d-9ee8-db674377fcf0",
   "metadata": {},
   "outputs": [
    {
     "name": "stdout",
     "output_type": "stream",
     "text": [
      "0    0.338656\n",
      "1    0.113445\n",
      "2    0.053242\n",
      "3    0.006618\n",
      "4    0.152904\n",
      "Name: Series from NumPy Array, dtype: float64\n"
     ]
    }
   ],
   "source": [
    "# Creating a Series from a NumPy array of random numbers\n",
    "data_array = np.random.rand(5)  # Generates 5 random numbers between 0 and 1\n",
    "series_from_array = pd.Series(data_array, name=\"Series from NumPy Array\")\n",
    "\n",
    "# Display the Series\n",
    "print(series_from_array)"
   ]
  },
  {
   "cell_type": "markdown",
   "id": "53062911-1ec9-41ed-8c75-3d7df3fff7e1",
   "metadata": {},
   "source": [
    "### 3. Creating a Series from a Dictionary\n",
    "\n",
    "A dictionary is an ideal way to create a Series if you want to have custom indices or labels for each value."
   ]
  },
  {
   "cell_type": "code",
   "execution_count": 9,
   "id": "aa045d33-c1f4-4fbc-aeae-ae49f92a9b91",
   "metadata": {},
   "outputs": [
    {
     "name": "stdout",
     "output_type": "stream",
     "text": [
      "A     5\n",
      "B    10\n",
      "C    15\n",
      "D    20\n",
      "Name: Series from Dictionary, dtype: int64\n"
     ]
    }
   ],
   "source": [
    "# Creating a Series from a dictionary with random integers\n",
    "data_dict = {\"A\": 5, \"B\": 10, \"C\": 15, \"D\": 20}\n",
    "series_from_dict = pd.Series(data_dict, \n",
    "                             name=\"Series from Dictionary\")\n",
    "\n",
    "# Display the Series\n",
    "print(series_from_dict)"
   ]
  },
  {
   "cell_type": "markdown",
   "id": "808342d1-000e-4862-913d-ccc36d5c8470",
   "metadata": {},
   "source": [
    "### 4. Creating a Series from a Scalar Value\n",
    "\n",
    "A scalar value can be used to create a Series with repeated values across different indices."
   ]
  },
  {
   "cell_type": "code",
   "execution_count": 10,
   "id": "265e6854-c287-4392-a94d-f06e31cc08de",
   "metadata": {},
   "outputs": [
    {
     "name": "stdout",
     "output_type": "stream",
     "text": [
      "A    7\n",
      "B    7\n",
      "C    7\n",
      "D    7\n",
      "Name: Series from Scalar, dtype: int64\n"
     ]
    }
   ],
   "source": [
    "# Creating a Series from a scalar value (repeated)\n",
    "scalar_value = 7\n",
    "series_from_scalar = pd.Series(scalar_value, index=[\"A\", \"B\", \"C\", \"D\"], name=\"Series from Scalar\")\n",
    "\n",
    "# Display the Series\n",
    "print(series_from_scalar)"
   ]
  },
  {
   "cell_type": "code",
   "execution_count": 11,
   "id": "ad0ac84c-b81c-484c-83f4-4c8990e7555e",
   "metadata": {},
   "outputs": [
    {
     "name": "stdout",
     "output_type": "stream",
     "text": [
      "Laptop        999.99\n",
      "Smartphone    699.99\n",
      "Tablet        399.99\n",
      "Headphones     49.99\n",
      "Monitor       199.99\n",
      "Name: Product Prices, dtype: float64\n"
     ]
    }
   ],
   "source": [
    "# Inventory data\n",
    "inventory = [\n",
    "    {\"product\": \"Laptop\", \"quantity\": 50, \"price\": 999.99},\n",
    "    {\"product\": \"Smartphone\", \"quantity\": 0, \"price\": 699.99},\n",
    "    {\"product\": \"Tablet\", \"quantity\": 25, \"price\": 399.99},\n",
    "    {\"product\": \"Headphones\", \"quantity\": 5, \"price\": 49.99},\n",
    "    {\"product\": \"Monitor\", \"quantity\": 100, \"price\": 199.99}\n",
    "]\n",
    "\n",
    "# Extracting product names as the index and prices as the data\n",
    "product_names = [item['product'] for item in inventory]\n",
    "product_prices = [item['price'] for item in inventory]\n",
    "\n",
    "# Creating a Pandas Series for prices with product names as the index\n",
    "prices_series = pd.Series(data=product_prices, index=product_names, name=\"Product Prices\")\n",
    "\n",
    "# Display the Series\n",
    "print(prices_series)"
   ]
  },
  {
   "cell_type": "markdown",
   "id": "c12d762a-f007-4239-9b5e-9351e29b0032",
   "metadata": {},
   "source": [
    "## Examples from the Real World"
   ]
  },
  {
   "cell_type": "code",
   "execution_count": 12,
   "id": "18df5933-2649-4a81-b28d-a1adab90976b",
   "metadata": {},
   "outputs": [],
   "source": [
    "# Create a Pandas Series from the book dataset (20 books)\n",
    "books_info = {'title': [\n",
    "        'To Kill a Mockingbird', \n",
    "        '1984', \n",
    "        'The Great Gatsby', \n",
    "        'Pride and Prejudice', \n",
    "        'Jane Eyre', \n",
    "        'Wuthering Heights', \n",
    "        'Moby-Dick', \n",
    "        'Alice in Wonderland', \n",
    "        'The Adventures of Huckleberry Finn', \n",
    "        'The Scarlet Letter',\n",
    "        'War and Peace', \n",
    "        'Madame Bovary', \n",
    "        'The Count of Monte Cristo', \n",
    "        'Great Expectations', \n",
    "        'The Picture of Dorian Gray', \n",
    "        'Heidi', \n",
    "        'The Secret Garden', \n",
    "        'Treasure Island', \n",
    "        'The Little Prince'\n",
    "    ],\n",
    "    'author': [\n",
    "        'Harper Lee', \n",
    "        'George Orwell', \n",
    "        'F. Scott Fitzgerald', \n",
    "        'Jane Austen', \n",
    "        'Charlotte Brontë', \n",
    "        'Emily Brontë', \n",
    "        'Herman Melville', \n",
    "        'Lewis Carroll', \n",
    "        'Mark Twain', \n",
    "        'Nathaniel Hawthorne',\n",
    "        'Leo Tolstoy', \n",
    "        'Gustave Flaubert', \n",
    "        'Alexandre Dumas', \n",
    "        'Charles Dickens', \n",
    "        'Oscar Wilde', \n",
    "        'Johanna Spyri', \n",
    "        'Frances Hodgson Burnett', \n",
    "        'Robert Louis Stevenson', \n",
    "        'Antoine de Saint-Exupéry'\n",
    "    ],\n",
    "    'year': [\n",
    "        1960, \n",
    "        1949, \n",
    "        1925, \n",
    "        1813, \n",
    "        1847, \n",
    "        1848, \n",
    "        1851, \n",
    "        1865, \n",
    "        1884, \n",
    "        1649,\n",
    "        1869, \n",
    "        1856, \n",
    "        1844, \n",
    "        1860, \n",
    "        1890, \n",
    "        1887, \n",
    "        1881, \n",
    "        1883, \n",
    "        1922\n",
    "    ]\n",
    "}"
   ]
  },
  {
   "cell_type": "code",
   "execution_count": 13,
   "id": "14b1ae02-b97d-49d8-9c06-a1e5e3a65c71",
   "metadata": {},
   "outputs": [
    {
     "name": "stdout",
     "output_type": "stream",
     "text": [
      "Year\n",
      "1960                 To Kill a Mockingbird\n",
      "1949                                  1984\n",
      "1925                      The Great Gatsby\n",
      "1813                   Pride and Prejudice\n",
      "1847                             Jane Eyre\n",
      "1848                     Wuthering Heights\n",
      "1851                             Moby-Dick\n",
      "1865                   Alice in Wonderland\n",
      "1884    The Adventures of Huckleberry Finn\n",
      "1649                    The Scarlet Letter\n",
      "1869                         War and Peace\n",
      "1856                         Madame Bovary\n",
      "1844             The Count of Monte Cristo\n",
      "1860                    Great Expectations\n",
      "1890            The Picture of Dorian Gray\n",
      "1887                                 Heidi\n",
      "1881                     The Secret Garden\n",
      "1883                       Treasure Island\n",
      "1922                     The Little Prince\n",
      "Name: Books Info, dtype: object\n"
     ]
    }
   ],
   "source": [
    "# Create a Pandas DataFrame from the book dataset\n",
    "book_data = pd.Series(data = books_info['title'],\n",
    "                      index=books_info['year'], \n",
    "                     name = \"Books Info\")\n",
    "\n",
    "\n",
    "# naming the index\n",
    "book_data.index.name = \"Year\"\n",
    "\n",
    "# Display the DataFrame\n",
    "print(book_data)"
   ]
  },
  {
   "cell_type": "code",
   "execution_count": 14,
   "id": "db13232d-4aeb-4736-be42-1525c2c59977",
   "metadata": {},
   "outputs": [
    {
     "name": "stdout",
     "output_type": "stream",
     "text": [
      "Movies Titles\n",
      "The Shawshank Redemption                          9.2\n",
      "The Godfather                                     8.5\n",
      "The Dark Knight                                   8.3\n",
      "12 Angry Men                                      8.1\n",
      "Schindler's List                                  8.0\n",
      "The Lord of the Rings: The Return of the King     7.8\n",
      "Pulp Fiction                                      7.6\n",
      "The Silence of the Lambs                          7.4\n",
      "Casablanca                                        7.3\n",
      "Star Wars: Episode V - The Empire Strikes Back    7.2\n",
      "Name: Movies Ratings, dtype: float64\n"
     ]
    }
   ],
   "source": [
    "# Create a Pandas Series from the movie rating dataset\n",
    "movies_data = {\n",
    "    'title': [\n",
    "        'The Shawshank Redemption', \n",
    "        'The Godfather', \n",
    "        'The Dark Knight', \n",
    "        '12 Angry Men', \n",
    "        'Schindler\\'s List', \n",
    "        'The Lord of the Rings: The Return of the King', \n",
    "        'Pulp Fiction', \n",
    "        'The Silence of the Lambs', \n",
    "        'Casablanca', \n",
    "        'Star Wars: Episode V - The Empire Strikes Back'\n",
    "    ],\n",
    "    'rating': [\n",
    "        9.2, \n",
    "        8.5, \n",
    "        8.3, \n",
    "        8.1, \n",
    "        8.0, \n",
    "        7.8, \n",
    "        7.6, \n",
    "        7.4, \n",
    "        7.3, \n",
    "        7.2\n",
    "    ]\n",
    "}\n",
    "movie_ratings = pd.Series(data = movies_data['rating'],\n",
    "                         index = movies_data['title'], \n",
    "                         name = \"Movies Ratings\")\n",
    "movie_ratings.index.name = 'Movies Titles'\n",
    "\n",
    "print(movie_ratings)"
   ]
  },
  {
   "cell_type": "code",
   "execution_count": 15,
   "id": "362b9b45-2273-4c87-87c7-638f139eb8e3",
   "metadata": {},
   "outputs": [
    {
     "name": "stdout",
     "output_type": "stream",
     "text": [
      "2022-01-01    32\n",
      "2022-01-02    40\n",
      "2022-01-03    50\n",
      "Name: Temperature, dtype: int64\n"
     ]
    }
   ],
   "source": [
    "# The weather data dataset\n",
    "weather_info = {\n",
    "    'date': ['2022-01-01', '2022-01-02', '2022-01-03'],\n",
    "    'temperature': [32, 40, 50],\n",
    "    'humidity': [60, 70, 80]\n",
    "}\n",
    "weather_data = pd.Series(data = weather_info.get('temperature'),\n",
    "                        index = weather_info.get('date'),\n",
    "                        name = \"Temperature\")\n",
    "\n",
    "print(weather_data)"
   ]
  },
  {
   "cell_type": "code",
   "execution_count": 16,
   "id": "34cc8613-e812-47ef-a0a3-6276b148fe53",
   "metadata": {},
   "outputs": [
    {
     "data": {
      "text/plain": [
       "Monday       22.5\n",
       "Tuesday      25.1\n",
       "Wednesday    23.8\n",
       "Thursday     21.7\n",
       "Friday       24.3\n",
       "Saturday     26.5\n",
       "Sunday       23.9\n",
       "Name: Daily Temperature (°C), dtype: float64"
      ]
     },
     "execution_count": 16,
     "metadata": {},
     "output_type": "execute_result"
    }
   ],
   "source": [
    "temperatures = pd.Series(\n",
    "    [22.5, 25.1, 23.8, 21.7, 24.3, 26.5, 23.9],\n",
    "    index=['Monday', 'Tuesday', 'Wednesday', 'Thursday', 'Friday', 'Saturday', 'Sunday'],\n",
    "    name='Daily Temperature (°C)'\n",
    ")\n",
    "temperatures"
   ]
  },
  {
   "cell_type": "markdown",
   "id": "f08b24a8-da68-4da7-ac4e-cc6a4d2752e0",
   "metadata": {},
   "source": [
    "---"
   ]
  },
  {
   "cell_type": "markdown",
   "id": "47b35200-46bd-4642-839c-e04313e79760",
   "metadata": {},
   "source": [
    "### Technical Detailed Section\n",
    "\n",
    "This section is more technical and aimed to those who want deeper into the methods and attributes of Pandas Series. "
   ]
  },
  {
   "cell_type": "code",
   "execution_count": 17,
   "id": "d4e81ad0-8af0-410e-b58c-e6f023eb9ebb",
   "metadata": {},
   "outputs": [
    {
     "name": "stdout",
     "output_type": "stream",
     "text": [
      "<class 'pandas.core.indexes.base.Index'>\n"
     ]
    }
   ],
   "source": [
    "# Check the Series index type\n",
    "print(type(series_index))"
   ]
  },
  {
   "cell_type": "code",
   "execution_count": 18,
   "id": "5c5f19e6-41ad-4f10-ba93-c762342321fe",
   "metadata": {},
   "outputs": [
    {
     "name": "stdout",
     "output_type": "stream",
     "text": [
      "<class 'numpy.ndarray'>\n"
     ]
    }
   ],
   "source": [
    "# The Series values type\n",
    "print(type(series_values))"
   ]
  },
  {
   "cell_type": "code",
   "execution_count": 19,
   "id": "109954b1-c547-4e89-b015-2a802c0c1526",
   "metadata": {},
   "outputs": [
    {
     "name": "stdout",
     "output_type": "stream",
     "text": [
      "['T', '__abs__', '__add__', '__and__', '__annotations__', '__array__', '__array_priority__', '__array_ufunc__', '__array_wrap__', '__bool__', '__class__', '__contains__', '__copy__', '__deepcopy__', '__delattr__', '__dict__', '__dir__', '__divmod__', '__doc__', '__eq__', '__floordiv__', '__format__', '__ge__', '__getattribute__', '__getitem__', '__getstate__', '__gt__', '__hash__', '__iadd__', '__init__', '__init_subclass__', '__invert__', '__iter__', '__le__', '__len__', '__lt__', '__mod__', '__module__', '__mul__', '__ne__', '__neg__', '__new__', '__nonzero__', '__or__', '__pandas_priority__', '__pos__', '__pow__', '__radd__', '__rand__', '__rdivmod__', '__reduce__', '__reduce_ex__', '__repr__', '__rfloordiv__', '__rmod__', '__rmul__', '__ror__', '__rpow__', '__rsub__', '__rtruediv__', '__rxor__', '__setattr__', '__setitem__', '__sizeof__', '__str__', '__sub__', '__subclasshook__', '__truediv__', '__weakref__', '__xor__', '_accessors', '_arith_method', '_assert_can_do_setop', '_attributes', '_cache', '_can_hold_identifiers_and_holds_name', '_can_hold_na', '_can_hold_strings', '_can_use_libjoin', '_check_indexing_error', '_check_indexing_method', '_cleanup', '_cmp_method', '_comparables', '_concat', '_construct_result', '_constructor', '_convert_can_do_setop', '_convert_slice_indexer', '_convert_tolerance', '_data', '_data_cls', '_default_na_rep', '_difference', '_difference_compat', '_dir_additions', '_dir_additions_for_owner', '_dir_deletions', '_drop_level_numbers', '_dti_setop_align_tzs', '_dtype_to_subclass', '_duplicated', '_engine', '_engine_type', '_engine_types', '_ensure_array', '_filter_indexer_tolerance', '_find_common_type_compat', '_format_attrs', '_format_data', '_format_duplicate_message', '_format_flat', '_format_with_header', '_formatter_func', '_from_join_target', '_get_default_index_names', '_get_engine_target', '_get_fill_indexer', '_get_fill_indexer_searchsorted', '_get_indexer', '_get_indexer_non_comparable', '_get_indexer_strict', '_get_join_target', '_get_level_names', '_get_level_number', '_get_level_values', '_get_names', '_get_nearest_indexer', '_get_reconciled_name_object', '_get_string_slice', '_get_values_for_csv', '_getitem_slice', '_hidden_attrs', '_holds_integer', '_id', '_index_as_unique', '_inner_indexer', '_intersection', '_intersection_via_get_indexer', '_is_all_dates', '_is_comparable_dtype', '_is_memory_usage_qualified', '_is_multi', '_is_strictly_monotonic_decreasing', '_is_strictly_monotonic_increasing', '_isnan', '_join_empty', '_join_level', '_join_monotonic', '_join_multi', '_join_non_unique', '_join_via_get_indexer', '_left_indexer', '_left_indexer_unique', '_logical_method', '_map_values', '_maybe_cast_indexer', '_maybe_cast_listlike_indexer', '_maybe_cast_slice_bound', '_maybe_check_unique', '_maybe_disable_logical_methods', '_maybe_disallow_fill', '_maybe_downcast_for_indexing', '_maybe_preserve_names', '_memory_usage', '_mpl_repr', '_na_value', '_name', '_no_setting_name', '_outer_indexer', '_raise_if_missing', '_raise_invalid_indexer', '_raise_scalar_data_error', '_references', '_reindex_non_unique', '_rename', '_requires_unique_msg', '_reset_cache', '_reset_identity', '_searchsorted_monotonic', '_set_names', '_shallow_copy', '_should_compare', '_should_fallback_to_positional', '_should_partial_index', '_simple_new', '_sort_levels_monotonic', '_summary', '_supports_partial_string_indexing', '_transform_index', '_typ', '_unary_method', '_union', '_validate_can_reindex', '_validate_fill_value', '_validate_index_level', '_validate_indexer', '_validate_names', '_validate_positional_slice', '_validate_sort_keyword', '_values', '_view', '_with_infer', '_wrap_difference_result', '_wrap_intersection_result', '_wrap_joined_index', '_wrap_reindex_result', '_wrap_setop_result', 'all', 'any', 'append', 'argmax', 'argmin', 'argsort', 'array', 'asof', 'asof_locs', 'astype', 'copy', 'delete', 'diff', 'difference', 'drop', 'drop_duplicates', 'droplevel', 'dropna', 'dtype', 'duplicated', 'empty', 'equals', 'factorize', 'fillna', 'format', 'get_indexer', 'get_indexer_for', 'get_indexer_non_unique', 'get_level_values', 'get_loc', 'get_slice_bound', 'groupby', 'has_duplicates', 'hasnans', 'holds_integer', 'identical', 'infer_objects', 'inferred_type', 'insert', 'intersection', 'is_', 'is_boolean', 'is_categorical', 'is_floating', 'is_integer', 'is_interval', 'is_monotonic_decreasing', 'is_monotonic_increasing', 'is_numeric', 'is_object', 'is_unique', 'isin', 'isna', 'isnull', 'item', 'join', 'map', 'max', 'memory_usage', 'min', 'name', 'names', 'nbytes', 'ndim', 'nlevels', 'notna', 'notnull', 'nunique', 'putmask', 'ravel', 'reindex', 'rename', 'repeat', 'round', 'searchsorted', 'set_names', 'shape', 'shift', 'size', 'slice_indexer', 'slice_locs', 'sort', 'sort_values', 'sortlevel', 'str', 'symmetric_difference', 'take', 'to_flat_index', 'to_frame', 'to_list', 'to_numpy', 'to_series', 'transpose', 'union', 'unique', 'value_counts', 'values', 'view', 'where']\n"
     ]
    }
   ],
   "source": [
    "# Pandas Series Index methods and Attributes\n",
    "print(dir(series_index))"
   ]
  }
 ],
 "metadata": {
  "kernelspec": {
   "display_name": "Python3.12",
   "language": "python",
   "name": "python3"
  },
  "language_info": {
   "codemirror_mode": {
    "name": "ipython",
    "version": 3
   },
   "file_extension": ".py",
   "mimetype": "text/x-python",
   "name": "python",
   "nbconvert_exporter": "python",
   "pygments_lexer": "ipython3",
   "version": "3.12.3"
  }
 },
 "nbformat": 4,
 "nbformat_minor": 5
}
