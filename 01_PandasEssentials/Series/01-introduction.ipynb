{
 "cells": [
  {
   "cell_type": "markdown",
   "id": "dc7e5dda-fd9c-489a-bc86-743747080916",
   "metadata": {},
   "source": [
    "# Introduction to Series Data Structure\n",
    "\n",
    "---\n",
    "\n",
    "**Author:** Dr. Saad Laouadi  \n",
    "**Copyright:** Dr. Saad Laouadi  \n",
    "\n",
    "---\n",
    "\n",
    "## License\n",
    "\n",
    "**This material is intended for educational purposes only and may not be used directly in courses, video recordings, or similar without prior consent from the author. When using or referencing this material, proper credit must be attributed to the author.**\n",
    "\n",
    "```text\n",
    "#**************************************************************************\n",
    "#* (C) Copyright 2024 by Dr. Saad Laouadi. All Rights Reserved.           *\n",
    "#**************************************************************************                                                                    \n",
    "#* DISCLAIMER: The author has used their best efforts in preparing        *\n",
    "#* this content. These efforts include development, research,             *\n",
    "#* and testing of the theories and programs to determine their            *\n",
    "#* effectiveness. The author makes no warranty of any kind,               *\n",
    "#* expressed or implied, with regard to these programs or                 *\n",
    "#* to the documentation contained within. The author shall not            *\n",
    "#* be liable in any event for incidental or consequential damages         *\n",
    "#* in connection with, or arising out of, the furnishing,                 *\n",
    "#* performance, or use of these programs.                                 *\n",
    "#*                                                                        *\n",
    "#* This content is intended for tutorials, online articles,               *\n",
    "#* and other educational purposes.                                        *\n",
    "#**************************************************************************\n",
    "```"
   ]
  },
  {
   "cell_type": "code",
   "execution_count": 1,
   "id": "139e51b9-4d50-4c3c-8871-acd10fb63643",
   "metadata": {},
   "outputs": [],
   "source": [
    "# Environment Setup \n",
    "import random\n",
    "from pprint import pprint\n",
    "from datetime import datetime\n",
    "\n",
    "import pandas as pd"
   ]
  },
  {
   "cell_type": "markdown",
   "id": "10a5f17d-18cc-4f54-a4b9-66eada92ceb8",
   "metadata": {},
   "source": [
    "## Introduction to Data Structures\n",
    "\n",
    "### Lists\n",
    "\n",
    "Let’s begin with a basic data structure that most people are familiar with—lists. A list in Python is an ordered collection that can store different data types."
   ]
  },
  {
   "cell_type": "code",
   "execution_count": 2,
   "id": "a7beccb6-8cac-4dab-8262-1b437e4fe51d",
   "metadata": {},
   "outputs": [
    {
     "name": "stdout",
     "output_type": "stream",
     "text": [
      "[90, 80, 55, 40, 60, 50]\n"
     ]
    }
   ],
   "source": [
    "# generate random list of grades\n",
    "random.seed(0)\n",
    "grades = random.choices(range(20, 101, 5), k=6)\n",
    "print(grades)"
   ]
  },
  {
   "cell_type": "markdown",
   "id": "99d3a370-1651-4f1a-be63-f1454df51477",
   "metadata": {},
   "source": [
    "In lists, we can access elements by their position or index; however, the index is always an integer. Remember that Python is a zero based index.\n",
    "\n",
    "In the previous example, we can access the element of the third element like this:"
   ]
  },
  {
   "cell_type": "code",
   "execution_count": 3,
   "id": "89b5feab-27ea-4d3b-bcd4-7525e357a622",
   "metadata": {},
   "outputs": [
    {
     "name": "stdout",
     "output_type": "stream",
     "text": [
      "The third element is: 55\n"
     ]
    }
   ],
   "source": [
    "print(f\"The third element is: {grades[2]}\")"
   ]
  },
  {
   "cell_type": "code",
   "execution_count": 4,
   "id": "85f6ba84-956c-4f29-a0e7-7498e397fa1c",
   "metadata": {},
   "outputs": [
    {
     "name": "stdout",
     "output_type": "stream",
     "text": [
      "Index is: 0 corresponding element: 90\n",
      "Index is: 1 corresponding element: 80\n",
      "Index is: 2 corresponding element: 55\n",
      "Index is: 3 corresponding element: 40\n",
      "Index is: 4 corresponding element: 60\n",
      "Index is: 5 corresponding element: 50\n"
     ]
    }
   ],
   "source": [
    "# Checking the list index\n",
    "for index, elem in enumerate(grades):\n",
    "    print(f\"Index is: {index} corresponding element: {elem}\")"
   ]
  },
  {
   "cell_type": "markdown",
   "id": "ab684a8f-f9b8-4d57-a4b3-96041f3f59d1",
   "metadata": {},
   "source": [
    "### Limitations of Lists in Python\n",
    "\n",
    "While lists are flexible for storing multiple values, they have some limitations:\n",
    "- **Lack of Labels**: Lists allow you to access elements by their position (index), but what if you need to assign meaningful labels to the data? For example, in a list of student grades, we can’t directly label each grade with the student’s name.\n",
    "- **Non-integer Indexing**: In Python, list indices are limited to integers, starting from 0. If you want to use custom labels like strings or other objects as indices, lists don’t support that functionality.\n",
    "- **No Metadata Support**: Lists don’t offer a direct way to associate additional metadata with the list itself. In the example above, grades is simply a reference to the list object, not a descriptive label or name associated with the data. This can be limiting if we want to store extra information, such as the subject name or the class for the grades.\n",
    "\n",
    "Lists don’t provide a built-in mechanism to address these needs, which makes them less suited for complex data storage where meaningful labels or additional metadata are required."
   ]
  },
  {
   "cell_type": "markdown",
   "id": "e55212d9-9c69-4081-9f00-07dd938693ca",
   "metadata": {},
   "source": [
    "### Dictionaries \n",
    "\n",
    "We can overcome the previously mentioned shortcomings of the list data structure in Python by using a dictionary (dict) instead. A dictionary in Python is an ordered collection that can store key-value pairs, where both the keys and values can be of different data types.\n",
    "\n",
    "Here’s how a dictionary addresses the issues we faced with lists:\n",
    "\n",
    "1.\t**Labeling Data**: In dictionaries, we can assign meaningful labels (keys) to each data element (value), making it easier to access and understand the data. This is useful when we want to pair student names with their grades.\n",
    "2.\t**Flexible Indexing**: Unlike lists, dictionaries allow us to use any hashable object as keys (like strings, integers, or tuples). This means we’re not limited to using integer indices as with lists.\n",
    "3.\t**Storing Metadata**: A dictionary can hold additional metadata alongside the data, making it more descriptive and flexible.\n",
    "\n",
    "### Example: Using a Dictionary to Store Student Grades\n",
    "\n",
    "Let’s enhance the previous example by using a dictionary to store both student names and their grades."
   ]
  },
  {
   "cell_type": "code",
   "execution_count": 5,
   "id": "14619880-a73a-4260-8252-f613c0f86dcd",
   "metadata": {},
   "outputs": [
    {
     "name": "stdout",
     "output_type": "stream",
     "text": [
      "{'Adam': 80, 'Chris': 85, 'David': 25, 'Denis': 100, 'Frank': 95, 'Micheal': 60}\n"
     ]
    }
   ],
   "source": [
    "# Creating a dictionary to store student names as keys and their grades as values\n",
    "random.seed(0)\n",
    "grades = {\n",
    "    \"Adam\": random.choice(range(20, 101, 5)),\n",
    "    \"Chris\": random.choice(range(20, 101, 5)),\n",
    "    \"David\": random.choice(range(20, 101, 5)),\n",
    "    \"Micheal\": random.choice(range(20, 101, 5)),\n",
    "    \"Denis\": random.choice(range(20, 101, 5)),\n",
    "    \"Frank\": random.choice(range(20, 101, 5))\n",
    "}\n",
    "pprint(grades)"
   ]
  },
  {
   "cell_type": "markdown",
   "id": "0f2f25c8-5105-4187-972c-eb581dd60569",
   "metadata": {},
   "source": [
    "We can access a **dict** object using the `[...]` operator or the `get()` method:"
   ]
  },
  {
   "cell_type": "code",
   "execution_count": 6,
   "id": "9293f94f-2324-46da-8b8f-24f2acd3f505",
   "metadata": {},
   "outputs": [
    {
     "name": "stdout",
     "output_type": "stream",
     "text": [
      "Adam's grade: 80\n",
      "Denis's grade: 100\n"
     ]
    }
   ],
   "source": [
    "# Accessing a student's grade using their name with []\n",
    "print(f\"Adam's grade: {grades['Adam']}\")\n",
    "\n",
    "# Using the get() method\n",
    "print(f\"Denis's grade: {grades.get(\"Denis\")}\")"
   ]
  },
  {
   "cell_type": "markdown",
   "id": "77289b08-aeca-44e5-ba59-977a08257e70",
   "metadata": {},
   "source": [
    "### Example: Storing Annual Income Data with Duplicate Keys\n",
    "\n",
    "Let’s say we want to track the annual income of a business over several years. In some cases, you might want to store multiple income values for the same year due to corrections or updated records. However, because dictionary keys must be unique, a standard Python dictionary won’t allow you to store multiple entries with the same key (year in this case)."
   ]
  },
  {
   "cell_type": "code",
   "execution_count": 7,
   "id": "b2a39ee0-2997-4356-8266-28ba4527846c",
   "metadata": {},
   "outputs": [
    {
     "name": "stdout",
     "output_type": "stream",
     "text": [
      "{2018: 50000, 2019: 60000, 2020: 65000, 2021: 75000}\n"
     ]
    }
   ],
   "source": [
    "# A dictionary storing income over several years\n",
    "income = {\n",
    "    2018: 50000,\n",
    "    2019: 60000,\n",
    "    2020: 65000,\n",
    "    2021: 70000,\n",
    "    2021: 75000  # Duplicate key!\n",
    "}\n",
    "\n",
    "print(income)"
   ]
  },
  {
   "cell_type": "markdown",
   "id": "22ae03f8-f385-49f5-a942-688e10db3510",
   "metadata": {},
   "source": [
    "In this case, the second entry for 2021 overwrites the first one. As a result, the original value for 2021 (70000) is lost, and only the latest entry (75000) remains. This shows that dictionaries don’t allow duplicate keys, and it can lead to data loss if you attempt to store multiple values for the same key.\n",
    "\n",
    "### Overcoming this Limitation\n",
    "\n",
    "To handle situations where duplicate keys are needed, you can use an alternative approach, such as storing lists or tuples as values, but we will face again the previous limitations of lists.\n",
    "\n",
    "Here is how we can store the income values for each year as a list to allow multiple entries for the same key."
   ]
  },
  {
   "cell_type": "code",
   "execution_count": 8,
   "id": "7ba60c75-dfd4-4651-aeee-b1ab7e924c6a",
   "metadata": {},
   "outputs": [
    {
     "name": "stdout",
     "output_type": "stream",
     "text": [
      "Income in 2021: [70000, 75000]\n"
     ]
    }
   ],
   "source": [
    "# Dictionary with lists as values to store multiple income records for the same year\n",
    "income = {\n",
    "    2018: [50000],\n",
    "    2019: [60000],\n",
    "    2020: [65000],\n",
    "    2021: [70000, 75000]  # Multiple values for the same year\n",
    "}\n",
    "\n",
    "# Accessing income data for 2021\n",
    "print(f\"Income in 2021: {income[2021]}\")"
   ]
  },
  {
   "cell_type": "markdown",
   "id": "760ed5d9-a667-4fcd-81e2-9da5e3ead2b7",
   "metadata": {},
   "source": [
    "### Adding Metadata \n",
    "\n",
    "We can add another key-value pair element to the dict object, for example \"name\": \"Income\" to the previous example, however, this will be considered just as another element rather than actual metadata for the object. This is because dictionaries don’t support metadata. Let us go with this first and then overcome the issue in the upcoming section:"
   ]
  },
  {
   "cell_type": "code",
   "execution_count": 9,
   "id": "cae30260-9c90-493b-ada6-bb93d7182598",
   "metadata": {},
   "outputs": [
    {
     "name": "stdout",
     "output_type": "stream",
     "text": [
      "The name of data: Income\n"
     ]
    }
   ],
   "source": [
    "# Dictionary with lists as values to store multiple income records for the same year\n",
    "income = {\n",
    "    2018: 50000,\n",
    "    2019: 60000,\n",
    "    2020: 65000,\n",
    "    2021: 75000,\n",
    "    \"name\": \"Income\"\n",
    "}\n",
    "\n",
    "# Access the name key\n",
    "print(f\"The name of data: {income.get(\"name\")}\")"
   ]
  },
  {
   "cell_type": "markdown",
   "id": "f94a732a-a8d6-4cd9-9b06-e8b219a18d46",
   "metadata": {},
   "source": [
    "#### Use a Custom Class for Metadata\n",
    "\n",
    "One way to overcome the previous issue is to create a custom class that wraps around the dictionary and allows you to store additional metadata like a name."
   ]
  },
  {
   "cell_type": "code",
   "execution_count": 10,
   "id": "286b4d69-098e-4b24-8406-6bc637dec445",
   "metadata": {},
   "outputs": [
    {
     "name": "stdout",
     "output_type": "stream",
     "text": [
      "Income Data: {2018: 50000, 2019: 60000, 2020: 65000, 2021: 75000}\n"
     ]
    }
   ],
   "source": [
    "class NamedDict:\n",
    "    def __init__(self, name, data):\n",
    "        self.name = name\n",
    "        self.data = data\n",
    "\n",
    "    def __repr__(self):\n",
    "        return f'{self.name}: {self.data}'\n",
    "\n",
    "\n",
    "income = NamedDict(name=\"Income Data\", data={\n",
    "    2018: 50000,\n",
    "    2019: 60000,\n",
    "    2020: 65000,\n",
    "    2021: 75000,\n",
    "})\n",
    "\n",
    "print(income)  "
   ]
  },
  {
   "cell_type": "markdown",
   "id": "a77cd15a-ea63-4b93-a7e9-53ac782c900f",
   "metadata": {},
   "source": [
    "#### Store Metadata Separately\n",
    "\n",
    "You can also store metadata like the name separately from the dictionary:"
   ]
  },
  {
   "cell_type": "code",
   "execution_count": 11,
   "id": "89c0fec1-ac53-47e5-81c8-5ab0f1450090",
   "metadata": {},
   "outputs": [
    {
     "name": "stdout",
     "output_type": "stream",
     "text": [
      "Income Data: {2018: 50000, 2019: 60000, 2020: 65000, 2021: 70000}\n"
     ]
    }
   ],
   "source": [
    "# Storing metadata separately\n",
    "income = {\n",
    "    2018: 50000,\n",
    "    2019: 60000,\n",
    "    2020: 65000,\n",
    "    2021: 70000,\n",
    "}\n",
    "\n",
    "# Metadata (like name) is stored separately\n",
    "income_name = \"Income Data\"\n",
    "\n",
    "# Access data\n",
    "print(f\"{income_name}: {income}\")"
   ]
  },
  {
   "cell_type": "markdown",
   "id": "b630b023-fbea-4a3f-bd90-c4ce6c0aaf3c",
   "metadata": {},
   "source": [
    "### Combining Lists with Dictionaries\n",
    "\n",
    "Suppose we want to store data and its associated metadata (such as labels or a name) together. A common approach in Python is to use a dictionary. Here’s an example where we store both the income values (data) and the corresponding years (index) as separate key-value pairs, along with a name for the dataset:"
   ]
  },
  {
   "cell_type": "code",
   "execution_count": 12,
   "id": "25ad4712-bf8b-4b7a-8254-c8f24f5d2ea1",
   "metadata": {},
   "outputs": [
    {
     "name": "stdout",
     "output_type": "stream",
     "text": [
      "Data: [50000, 60000, 65000, 70000, 75000]\n",
      "Index: [2018, 2019, 2020, 2021, 2021]\n",
      "Name: Income Data\n"
     ]
    }
   ],
   "source": [
    "income = {\n",
    "    \"data\": [50000, 60000, 65000, 70000, 75000],\n",
    "    \"index\": [2018, 2019, 2020, 2021, 2021],\n",
    "    \"name\": \"Income Data\"\n",
    "}\n",
    "\n",
    "# Accessing data and metadata separately\n",
    "print(f\"Data: {income['data']}\")\n",
    "print(f\"Index: {income['index']}\")\n",
    "print(f\"Name: {income['name']}\")"
   ]
  },
  {
   "cell_type": "markdown",
   "id": "e0f4a816-d501-48a8-b489-4db2559b840b",
   "metadata": {},
   "source": [
    "Instead of accessing the entire dict element, we might be interested only in one element from the one or more key-pair, say we want the first element of data and the first element from index. We can index that like this:§"
   ]
  },
  {
   "cell_type": "code",
   "execution_count": 13,
   "id": "45e52e3d-cfaa-49e0-ad9f-dae6b4572d12",
   "metadata": {},
   "outputs": [
    {
     "name": "stdout",
     "output_type": "stream",
     "text": [
      "Data first element: 50000\n",
      "Index first element: 2018\n"
     ]
    }
   ],
   "source": [
    "print(f\"Data first element: {income['data'][0]}\")\n",
    "print(f\"Index first element: {income['index'][0]}\")"
   ]
  },
  {
   "cell_type": "markdown",
   "id": "d1efc59f-6792-410c-b0eb-50ea2adb1a1f",
   "metadata": {},
   "source": [
    "Or we can just write a function that handles this for us. This is the purpose of the following function:"
   ]
  },
  {
   "cell_type": "code",
   "execution_count": 14,
   "id": "fccd7401-9aa1-4066-a600-957e668e7e82",
   "metadata": {},
   "outputs": [],
   "source": [
    "def get_element(data_dict, index, data_only=True):\n",
    "    \"\"\"\n",
    "    Extract an element and its associated index from the given dictionary.\n",
    "    \n",
    "    Parameters:\n",
    "    - data_dict (dict): The dictionary containing 'data' and 'index' keys.\n",
    "    - index (int or any type): The position or label for the element to extract.\n",
    "    - data_only (bool): If True, returns only the data value; if False, returns both index and data as a tuple.\n",
    "    \n",
    "    Returns:\n",
    "    - data_value or (index, data_value): Depending on the 'just_data' flag.\n",
    "      Returns None if index is not found or if 'data' and 'index' keys are missing.\n",
    "    \"\"\"\n",
    "    index_list = data_dict.get('index')\n",
    "    data_list = data_dict.get('data')\n",
    "\n",
    "    if index_list is None or data_list is None:\n",
    "        print(\"Error: Missing 'data' or 'index' in the dictionary.\")\n",
    "        return None\n",
    "    \n",
    "    try:\n",
    "        index_position = index_list.index(index)\n",
    "        data_value = data_list[index_position]\n",
    "        \n",
    "        if data_only:\n",
    "            return data_value\n",
    "        else:\n",
    "            return (index, data_value)\n",
    "    \n",
    "    except ValueError:\n",
    "        print(f\"Error: Index {index} not found in the index list.\")\n",
    "        return None"
   ]
  },
  {
   "cell_type": "code",
   "execution_count": 15,
   "id": "760fc52d-918d-4284-841b-cdb24a0446a2",
   "metadata": {},
   "outputs": [
    {
     "name": "stdout",
     "output_type": "stream",
     "text": [
      "The 2021 data: 70000\n",
      "Data with index (2021, 70000)\n"
     ]
    }
   ],
   "source": [
    "# Get the element of 2021\n",
    "print(f\"The 2021 data: {get_element(income, 2021)}\")\n",
    "print(f\"Data with index {get_element(income, 2021, False)}\")"
   ]
  },
  {
   "cell_type": "markdown",
   "id": "a9035eee-8fde-4e72-8c22-5778dd670764",
   "metadata": {},
   "source": [
    "We are almost overcoming the main issue. We can go forward to show that index can be any data type not just an integer as what lists provide for us. Let us more examples here:"
   ]
  },
  {
   "cell_type": "code",
   "execution_count": 16,
   "id": "d53c73e6-f98f-4833-964d-eff21c4cc1f4",
   "metadata": {},
   "outputs": [
    {
     "name": "stdout",
     "output_type": "stream",
     "text": [
      "Software Engineer\n",
      "('Skill', 'Python')\n"
     ]
    }
   ],
   "source": [
    "# Dictionary with string-based 'index' and 'data'\n",
    "person_info = {\n",
    "    \"data\": [30, \"Software Engineer\", \"New York\", \"Python\"],\n",
    "    \"index\": [\"Age\", \"Job Title\", \"Location\", \"Skill\"],\n",
    "    \"name\": \"Person Info\"\n",
    "}\n",
    "\n",
    "result = get_element(person_info, \"Job Title\")\n",
    "print(result)  \n",
    "\n",
    "# Getting both the index and data (just_data=False)\n",
    "result = get_element(person_info, \"Skill\", data_only =False)\n",
    "print(result)  "
   ]
  },
  {
   "cell_type": "markdown",
   "id": "b8693037-ab4c-4301-831d-54d576b3b266",
   "metadata": {},
   "source": [
    "And here is an example where the index can be a datetime object:"
   ]
  },
  {
   "cell_type": "code",
   "execution_count": 17,
   "id": "b9049ddf-8957-4447-a73c-5da156b21a1a",
   "metadata": {},
   "outputs": [
    {
     "name": "stdout",
     "output_type": "stream",
     "text": [
      "68\n",
      "(datetime.date(2023, 9, 4), 70)\n"
     ]
    }
   ],
   "source": [
    "weather_data = {\n",
    "    \"data\": [72, 75, 68, 70, 65],\n",
    "    \"index\": [\n",
    "        datetime(2023, 9, 1).date(),\n",
    "        datetime(2023, 9, 2).date(),\n",
    "        datetime(2023, 9, 3).date(),\n",
    "        datetime(2023, 9, 4).date(),\n",
    "        datetime(2023, 9, 5).date()\n",
    "    ],\n",
    "    \"name\": \"Temperature Data\"\n",
    "}\n",
    "\n",
    "result = get_element(weather_data, datetime(2023, 9, 3).date())\n",
    "print(result)  \n",
    "\n",
    "result = get_element(weather_data, datetime(2023, 9, 4).date(), data_only=False)\n",
    "print(result)  "
   ]
  },
  {
   "cell_type": "markdown",
   "id": "36e53fd6-a6de-4100-b45f-b0b65550d31f",
   "metadata": {},
   "source": [
    "## Pandas Series \n",
    "A **Pandas Series**  is a one-dimensional array-like structure that holds data of similar types (such as integers, floats, strings, or more complex objects). Unlike a Python list, which can hold mixed data types, a Series generally contains elements of the same data type, providing more consistency in data manipulation.\n",
    "\n",
    "A Series object is similar to a Python list or NumPy array but offers additional features, such as labels (indexes) and metadata, which make it more powerful for data analysis. It consists of two primary components:\n",
    "\n",
    "1.\t**Data**: The actual data stored in the Series.\n",
    "2.\t**Index**: The labels associated with the data, allowing for more flexible and intuitive data retrieval.\n",
    "\n",
    "Unlike standard lists or arrays, a Pandas Series allows users to specify custom labels for each data point, which enhances readability and accessibility. By default, if an index is not provided, a Pandas Series will use a numeric range starting from 0 as the index. However, the real power of Series comes when you define custom indices, such as dates, strings, or categories."
   ]
  },
  {
   "cell_type": "markdown",
   "id": "02e8c8e2-012a-43ee-a6b5-94a8bb79b406",
   "metadata": {},
   "source": [
    "### Example\n",
    "While the dictionary can store the data and index separately, using a **Pandas Series** allows us to combine the data and the index into a more structured format and leverage powerful features for analysis.\n",
    "\n",
    "We will use the previous example that represents annual income data to show the power of Pandas Series data structure. "
   ]
  },
  {
   "cell_type": "code",
   "execution_count": 18,
   "id": "ce8bf835-f65e-4020-bf88-f559da3b55eb",
   "metadata": {},
   "outputs": [
    {
     "name": "stdout",
     "output_type": "stream",
     "text": [
      "2018    50000\n",
      "2019    60000\n",
      "2020    65000\n",
      "2021    70000\n",
      "2021    75000\n",
      "Name: Income Data, dtype: int64\n"
     ]
    }
   ],
   "source": [
    "# Create a Pandas Series\n",
    "income_series = pd.Series(data=income[\"data\"], \n",
    "                          index=income[\"index\"],\n",
    "                          name=income[\"name\"])\n",
    "\n",
    "# Display the Series\n",
    "print(income_series)"
   ]
  },
  {
   "cell_type": "markdown",
   "id": "1aa0a08d-d8ad-40b9-9e5c-d7c94d8e74ff",
   "metadata": {},
   "source": [
    "### Example: Sales Data with Duplicated Dates\n",
    "\n",
    "Here’s another example of a Pandas Series where the index can be duplicated. Let’s take the example of monthly sales data for a store. Stores might record multiple sales on the same day, which leads to duplicate date entries or a non-unique index."
   ]
  },
  {
   "cell_type": "code",
   "execution_count": 19,
   "id": "7bfae892-b56e-430a-8abb-3765ecf7e8ee",
   "metadata": {},
   "outputs": [
    {
     "name": "stdout",
     "output_type": "stream",
     "text": [
      "2023-09-01    1500\n",
      "2023-09-01    2300\n",
      "2023-09-02    1750\n",
      "2023-09-03    1200\n",
      "2023-09-04    2200\n",
      "2023-09-04    3000\n",
      "Name: Store Sales, dtype: int64\n"
     ]
    }
   ],
   "source": [
    "# Sales data\n",
    "sales_data = {\n",
    "    \"data\": [1500, 2300, 1750, 1200, 2200, 3000],\n",
    "    \"index\": [\n",
    "        datetime(2023, 9, 1), \n",
    "        datetime(2023, 9, 1),  # Duplicate date entry\n",
    "        datetime(2023, 9, 2),\n",
    "        datetime(2023, 9, 3),\n",
    "        datetime(2023, 9, 4),\n",
    "        datetime(2023, 9, 4)   # Duplicate date entry\n",
    "    ],\n",
    "    \"name\": \"Store Sales\"\n",
    "}\n",
    "\n",
    "# Creating a Pandas Series\n",
    "sales_series = pd.Series(data=sales_data[\"data\"], \n",
    "                         index=sales_data[\"index\"],\n",
    "                         name=sales_data[\"name\"])\n",
    "\n",
    "print(sales_series)"
   ]
  },
  {
   "cell_type": "markdown",
   "id": "6c77c828-a734-4681-9585-d0988770fb45",
   "metadata": {},
   "source": [
    "### Example: Student Grades with Subject Names as Index\n",
    "\n",
    "Consider a dataset where a student receives grades in different subjects. Each subject name is a string and will act as the index."
   ]
  },
  {
   "cell_type": "code",
   "execution_count": 20,
   "id": "9657b6c9-b594-442d-b9bc-fe245633f3f7",
   "metadata": {},
   "outputs": [
    {
     "name": "stdout",
     "output_type": "stream",
     "text": [
      "Math       85\n",
      "Science    92\n",
      "History    78\n",
      "English    90\n",
      "Art        88\n",
      "Name: Student Grades, dtype: int64\n"
     ]
    }
   ],
   "source": [
    "# Student grades data\n",
    "grades_data = {\n",
    "    \"data\": [85, 92, 78, 90, 88],\n",
    "    \"index\": [\"Math\", \"Science\", \"History\", \"English\", \"Art\"],\n",
    "    \"name\": \"Student Grades\"\n",
    "}\n",
    "\n",
    "# Creating a Pandas Series\n",
    "grades_series = pd.Series(data=grades_data[\"data\"],\n",
    "                          index=grades_data[\"index\"],\n",
    "                          name=grades_data[\"name\"])\n",
    "\n",
    "print(grades_series)"
   ]
  },
  {
   "cell_type": "markdown",
   "id": "d7885d1b-8311-4c3a-ab27-3bfa12116f51",
   "metadata": {},
   "source": [
    "## Advantages of Using Pandas Series:\n",
    "\n",
    "1.\t**Combining Data and Index**: The data and index from the dictionary are combined into a single structure, which is more intuitive and easier to manage than a separate data and index list.\n",
    "2.\t**Handling Duplicate Index**: Pandas Series allows the use of non-unique indices, like in this example where 2021 appears twice. This would be harder to handle in a regular dictionary.\n",
    "3.\t**Automatic Data Alignment**: When performing operations, Pandas will automatically align data based on the index, which allows for more flexibility when working with datasets that have irregular indices.\n",
    "4.\t**Built-in Statistical Methods**: A Pandas Series offers many built-in functions to quickly analyze the data, such as calculating the mean, sum, or even plotting the data.\n",
    "\n",
    "### Why Use Pandas Series?\n",
    "\n",
    "- The Series structure is more powerful than a simple dictionary for organizing and manipulating data.\n",
    "- It makes data operations, such as aggregation, alignment, and indexing, easier and more efficient.\n",
    "- You can apply various built-in functions directly to the Series (e.g., calculating the mean, standard deviation, or creating plots)."
   ]
  },
  {
   "cell_type": "markdown",
   "id": "b287156f-e132-443a-8f07-b5d071621fe0",
   "metadata": {},
   "source": [
    "## The Importance of Index in Pandas Philosophy\n",
    "\n",
    "In Pandas, the index is not just an afterthought; it’s central to the way data is handled and manipulated. The philosophy behind Pandas heavily emphasizes the importance of index alignment for data operations. This means that, unlike in a standard array where the position of data is the only way to reference it, in a Pandas Series (or DataFrame), each piece of data is explicitly associated with an index label. The index serves as a map or identifier for each element.\n",
    "\n",
    "Here’s why the index is so important in Pandas:\n",
    "\n",
    "1.\t**Data Alignment**: Pandas automatically aligns data based on index labels during operations. This allows you to perform operations on datasets that don’t have matching dimensions or labels, and Pandas will intelligently match the values based on the index. This reduces the possibility of errors due to misalignment, something you might encounter when using raw arrays or lists.\n",
    "Example:"
   ]
  },
  {
   "cell_type": "code",
   "execution_count": 21,
   "id": "af4ff32e-6d7b-4c70-8884-9038f80b8495",
   "metadata": {},
   "outputs": [
    {
     "name": "stdout",
     "output_type": "stream",
     "text": [
      "A    NaN\n",
      "B    6.0\n",
      "C    8.0\n",
      "D    NaN\n",
      "dtype: float64\n"
     ]
    }
   ],
   "source": [
    "series1 = pd.Series([1, 2, 3], index=[\"A\", \"B\", \"C\"])\n",
    "series2 = pd.Series([4, 5, 6], index=[\"B\", \"C\", \"D\"])\n",
    "\n",
    "result = series1 + series2\n",
    "print(result)"
   ]
  },
  {
   "cell_type": "markdown",
   "id": "015be2a1-ed86-47ea-9955-6d0c067f7efb",
   "metadata": {},
   "source": [
    "Here, Pandas aligns the data based on the index labels, rather than by position, providing NaN for unmatched indices.\n",
    "\n",
    "2.\t**Efficient Data Access**: The index allows for fast lookups and slicing. Whether you’re working with a time-series dataset or labeled categories, the index can be used to quickly retrieve and filter the data.\n",
    "3.\t**Enhanced Functionality**: Pandas leverages the index for various built-in functions, such as merging, joining, grouping, and sorting. The index also facilitates more advanced data operations such as resampling, reindexing, and pivoting. In time-series data, for instance, using a date index allows for efficient time-based resampling and slicing.\n",
    "4.\t**Multiple Indexing Levels**: Pandas also supports hierarchical or MultiIndex, which allows for multi-dimensional indexing of data, making it possible to represent more complex datasets with multiple levels of data granularity.\n",
    "\n",
    "\n",
    "In summary, the index is a core feature that makes Pandas more than just a data storage tool—it transforms Pandas into a powerful library for data analysis. The index provides the foundation for performing intuitive, flexible, and efficient data manipulations, making it central to Pandas’ philosophy of making data analysis both fast and easy to work with.\n"
   ]
  },
  {
   "cell_type": "markdown",
   "id": "39d1df49-46c6-4174-94cc-93e46f0e18e3",
   "metadata": {},
   "source": [
    "### Example: Monthly Revenue for a Company\n",
    "\n",
    "Imagine we are tracking the monthly revenue for a company throughout a year. The months will be used as the index, and the revenue for each month will be the data. We also want to handle some real-world complexities, such as missing data and calculating key metrics like average revenue."
   ]
  },
  {
   "cell_type": "code",
   "execution_count": 22,
   "id": "66f8cd84-7a6b-4ef3-a6d5-b9b4cc22f91a",
   "metadata": {},
   "outputs": [
    {
     "name": "stdout",
     "output_type": "stream",
     "text": [
      "January      12000.0\n",
      "February     15000.0\n",
      "March            NaN\n",
      "April        18000.0\n",
      "May          17000.0\n",
      "June         16000.0\n",
      "July             NaN\n",
      "August       17500.0\n",
      "September    20000.0\n",
      "October      21000.0\n",
      "November     19000.0\n",
      "December     25000.0\n",
      "Name: Monthly Revenue, dtype: float64\n"
     ]
    }
   ],
   "source": [
    "revenue_data = {\n",
    "    \"data\": [12000, 15000, None, 18000, 17000, 16000, None, 17500, 20000, 21000, 19000, 25000],\n",
    "    \"index\": [\"January\", \"February\", \"March\", \"April\", \"May\", \"June\", \"July\", \"August\", \"September\", \"October\", \"November\", \"December\"],\n",
    "    \"name\": \"Monthly Revenue\"\n",
    "}\n",
    "\n",
    "revenue_series = pd.Series(data=revenue_data[\"data\"], index=revenue_data[\"index\"], name=revenue_data[\"name\"])\n",
    "\n",
    "print(revenue_series)"
   ]
  },
  {
   "cell_type": "code",
   "execution_count": null,
   "id": "27755004-e8e0-4f13-b367-b3dd27f2d9b1",
   "metadata": {},
   "outputs": [],
   "source": []
  }
 ],
 "metadata": {
  "kernelspec": {
   "display_name": "Python3.12",
   "language": "python",
   "name": "python3"
  },
  "language_info": {
   "codemirror_mode": {
    "name": "ipython",
    "version": 3
   },
   "file_extension": ".py",
   "mimetype": "text/x-python",
   "name": "python",
   "nbconvert_exporter": "python",
   "pygments_lexer": "ipython3",
   "version": "3.12.3"
  }
 },
 "nbformat": 4,
 "nbformat_minor": 5
}
