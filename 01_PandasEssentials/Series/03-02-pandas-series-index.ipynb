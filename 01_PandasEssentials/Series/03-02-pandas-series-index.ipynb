{
 "cells": [
  {
   "cell_type": "markdown",
   "id": "ca4702f9-95e3-491a-825b-71614025eeaf",
   "metadata": {},
   "source": [
    "# Lesson: Pandas Series Index\n",
    "## Objective:\n",
    " - **Understand the Pandas Series Index**:\n",
    "    - Index Attributes\n",
    "    - Manipulate the index\n",
    "    - ...  more.\n",
    "\n",
    "---\n",
    "\n",
    "**Author:** Dr. Saad Laouadi  \n",
    "**Copyright:** Dr. Saad Laouadi  \n",
    "\n",
    "---\n",
    "\n",
    "## License\n",
    "\n",
    "**This material is intended for educational purposes only and may not be used directly in courses, video recordings, or similar without prior consent from the author. When using or referencing this material, proper credit must be attributed to the author.**\n",
    "\n",
    "```text\n",
    "#**************************************************************************\n",
    "#* (C) Copyright 2024 by Dr. Saad Laouadi. All Rights Reserved.           *\n",
    "#**************************************************************************                                                                    \n",
    "#* DISCLAIMER: The author has used their best efforts in preparing        *\n",
    "#* this content. These efforts include development, research,             *\n",
    "#* and testing of the theories and programs to determine their            *\n",
    "#* effectiveness. The author makes no warranty of any kind,               *\n",
    "#* expressed or implied, with regard to these programs or                 *\n",
    "#* to the documentation contained within. The author shall not            *\n",
    "#* be liable in any event for incidental or consequential damages         *\n",
    "#* in connection with, or arising out of, the furnishing,                 *\n",
    "#* performance, or use of these programs.                                 *\n",
    "#*                                                                        *\n",
    "#* This content is intended for tutorials, online articles,               *\n",
    "#* and other educational purposes.                                        *\n",
    "#**************************************************************************\n",
    "```"
   ]
  },
  {
   "cell_type": "code",
   "execution_count": 2,
   "id": "fe27b2ce-34f9-4075-a376-7e59da614110",
   "metadata": {},
   "outputs": [],
   "source": [
    "# Env Setup\n",
    "import numpy as np \n",
    "import pandas as pd\n",
    "import string"
   ]
  },
  {
   "cell_type": "markdown",
   "id": "04620851-766e-4b21-88f5-311072607894",
   "metadata": {},
   "source": [
    "## Understanding the Pandas Series Index\n",
    "\n",
    "In Pandas, the `index` attribute is fundamental in organizing and referencing the data. It allows for more flexible, efficient, and intuitive data access. Unlike simple lists or arrays, where elements are accessed by their position (integer index), a Pandas Series provides custom labeling, which can be of any data type, such as strings, numbers, or even datetime.\n",
    "\n",
    "The index attribute provides the labels for each data point in the Series. This allows for more meaningful operations, such as searching by label or aligning data between multiple Series based on the index.\n",
    "\n",
    "In the case of string-based indexing, each index element is stored as an `object`, which is the general-purpose data type in Pandas. This makes the index flexible, allowing it to hold various types of data, such as strings, dates, or even more complex objects. However, the term object here does not mean a generic Python object but rather a string or other non-integer types."
   ]
  },
  {
   "cell_type": "markdown",
   "id": "95dd5652-7b78-4b33-871a-9a17a4f917f1",
   "metadata": {},
   "source": [
    "### 1.1 The index Attribute\n",
    "\n",
    "The index attribute holds the labels for the elements in the Series:"
   ]
  },
  {
   "cell_type": "code",
   "execution_count": 3,
   "id": "cd94c8e3-2a61-4c20-8dca-6930dc69ab9b",
   "metadata": {},
   "outputs": [
    {
     "name": "stdout",
     "output_type": "stream",
     "text": [
      "0    45\n",
      "1    48\n",
      "2    65\n",
      "3    68\n",
      "4    68\n",
      "5    10\n",
      "6    84\n",
      "7    22\n",
      "8    37\n",
      "9    88\n",
      "dtype: int64\n"
     ]
    }
   ],
   "source": [
    "# Generate random data\n",
    "np.random.seed(0)\n",
    "random_data = np.random.randint(1, 100, size=10)\n",
    "\n",
    "ser = pd.Series(random_data)\n",
    "\n",
    "# Display the Series\n",
    "print(ser)"
   ]
  },
  {
   "cell_type": "code",
   "execution_count": 4,
   "id": "77d1ae3b-9022-4ddc-933d-1ab2574da15b",
   "metadata": {},
   "outputs": [
    {
     "name": "stdout",
     "output_type": "stream",
     "text": [
      "RangeIndex(start=0, stop=10, step=1)\n"
     ]
    }
   ],
   "source": [
    "# Access the Series Index Attribute\n",
    "print(ser.index)"
   ]
  },
  {
   "cell_type": "markdown",
   "id": "7a3321e2-d453-4332-b13d-b68337d9e72f",
   "metadata": {},
   "source": [
    "The index in the previous example is automatically assigned by Pandas, starting at 0 and incrementing by 1 for each element. This is useful when you don’t need custom labels for your data and just want to work with the default sequential indexing.\n",
    "\n",
    "The type of the index is **RangeIndex**, which is a specialized form of index used in Pandas. It is a memory-efficient index that is used by default when creating a Pandas Series or DataFrame with a default sequential index. "
   ]
  },
  {
   "cell_type": "markdown",
   "id": "2556ce6b-ec4f-4c15-b5ca-293eb5fd2e5c",
   "metadata": {},
   "source": [
    "## 2. Creating Series with String and Datetime Indexes\n",
    "\n",
    "### 2.1 Series with String Index\n",
    "\n",
    "You can create a Series with string-based index labels. This can be useful when working with categorical data like product names or locations:"
   ]
  },
  {
   "cell_type": "code",
   "execution_count": 5,
   "id": "3a64b8ab-50fe-4752-b189-fa41ca5d0497",
   "metadata": {},
   "outputs": [
    {
     "name": "stdout",
     "output_type": "stream",
     "text": [
      "Laptop        150\n",
      "Smartphone    250\n",
      "Tablet        350\n",
      "dtype: int64\n"
     ]
    }
   ],
   "source": [
    "# Series with string index\n",
    "ser_string = pd.Series([150, 250, 350], index=[\"Laptop\", \"Smartphone\", \"Tablet\"])\n",
    "\n",
    "print(ser_string)"
   ]
  },
  {
   "cell_type": "code",
   "execution_count": 6,
   "id": "892d7cbb-43e0-4f35-84e9-3cedbeb74ac6",
   "metadata": {},
   "outputs": [
    {
     "name": "stdout",
     "output_type": "stream",
     "text": [
      "Index(['Laptop', 'Smartphone', 'Tablet'], dtype='object')\n"
     ]
    }
   ],
   "source": [
    "# Access the index\n",
    "print(ser_string.index)"
   ]
  },
  {
   "cell_type": "markdown",
   "id": "a438fb1b-25a0-468e-ba4d-3e1057e8f890",
   "metadata": {},
   "source": [
    "You can observe that the index attribute of a Pandas Series is an instance of the `Index` class, which is a fundamental component of the Pandas library for managing labeled data. The data type of each element in the index is described as an `object` in Pandas terminology when the index contains non-numeric types like strings."
   ]
  },
  {
   "cell_type": "markdown",
   "id": "fe4fc4d9-22d3-4989-aefb-ea0cbd24a821",
   "metadata": {},
   "source": [
    "Here is another Example of Random Series"
   ]
  },
  {
   "cell_type": "code",
   "execution_count": 7,
   "id": "2283ebde-49d0-4164-b86f-9ae7ddeff41c",
   "metadata": {},
   "outputs": [
    {
     "name": "stdout",
     "output_type": "stream",
     "text": [
      "Index(['A', 'B', 'C', 'D', 'E', 'F', 'G'], dtype='object')\n"
     ]
    }
   ],
   "source": [
    "# Create a Pandas Series\n",
    "data = np.arange(0, 601, 100)\n",
    "index = list(string.ascii_uppercase[:7])\n",
    "ser = pd.Series(data, index=index)\n",
    "\n",
    "# Getting the index of the Series\n",
    "print(ser.index)"
   ]
  },
  {
   "cell_type": "markdown",
   "id": "0d9ca5aa-85ba-4702-bf72-fa0fa3047718",
   "metadata": {},
   "source": [
    "### 2.2 Series with Datetime Index\n",
    "\n",
    "In many real-world applications (e.g., stock prices, sensor data), you need to use dates as the index. Pandas provides powerful functionality to work with datetime as index:"
   ]
  },
  {
   "cell_type": "code",
   "execution_count": 8,
   "id": "eebd073d-3080-4171-b20c-63a3f504c181",
   "metadata": {},
   "outputs": [
    {
     "name": "stdout",
     "output_type": "stream",
     "text": [
      "2023-01-01    500\n",
      "2023-01-02    600\n",
      "2023-01-03    700\n",
      "Freq: D, dtype: int64\n"
     ]
    }
   ],
   "source": [
    "# Series with datetime index\n",
    "dates = pd.date_range(\"2023-01-01\", periods=3)\n",
    "ser_datetime = pd.Series([500, 600, 700], index=dates)\n",
    "\n",
    "print(ser_datetime)"
   ]
  },
  {
   "cell_type": "code",
   "execution_count": 9,
   "id": "e3706161-0c35-4ee2-ac61-1b942bd2f0f5",
   "metadata": {},
   "outputs": [
    {
     "name": "stdout",
     "output_type": "stream",
     "text": [
      "DatetimeIndex(['2023-01-01', '2023-01-02', '2023-01-03'], dtype='datetime64[ns]', freq='D')\n"
     ]
    }
   ],
   "source": [
    "print(ser_datetime.index)"
   ]
  },
  {
   "cell_type": "markdown",
   "id": "99cad86a-d65a-420a-94fa-ae83539ca6cc",
   "metadata": {},
   "source": [
    "The index now is a datetime Index. "
   ]
  },
  {
   "cell_type": "markdown",
   "id": "d05b6029-106a-4f85-bc7c-038239775e61",
   "metadata": {},
   "source": [
    "### 3.1 Naming the Index\n",
    "\n",
    "You can add a name to the index, which can be helpful for clarity, especially when working with DataFrames:"
   ]
  },
  {
   "cell_type": "code",
   "execution_count": 10,
   "id": "071caa33-76a7-4869-a573-ce56fe99e49c",
   "metadata": {},
   "outputs": [
    {
     "name": "stdout",
     "output_type": "stream",
     "text": [
      "Product\n",
      "Laptop        150\n",
      "Smartphone    250\n",
      "Tablet        350\n",
      "dtype: int64\n"
     ]
    }
   ],
   "source": [
    "# Adding a name to the index\n",
    "ser_string.index.name = \"Product\"\n",
    "print(ser_string)"
   ]
  },
  {
   "cell_type": "markdown",
   "id": "417fec41-3ec8-499b-93e6-d6f483ab916d",
   "metadata": {},
   "source": [
    "### 3.2 Changing Index Labels\n",
    "\n",
    "You can easily change the index labels of a Series. Here’s how to change all labels at once:"
   ]
  },
  {
   "cell_type": "code",
   "execution_count": 11,
   "id": "f301e73c-fb73-444d-a15a-63e433af3400",
   "metadata": {},
   "outputs": [
    {
     "name": "stdout",
     "output_type": "stream",
     "text": [
      "PC        150\n",
      "Phone     250\n",
      "Tablet    350\n",
      "dtype: int64\n"
     ]
    }
   ],
   "source": [
    "# Changing the index labels\n",
    "ser_string.index = [\"PC\", \"Phone\", \"Tablet\"]\n",
    "print(ser_string)"
   ]
  },
  {
   "cell_type": "markdown",
   "id": "136079f6-6bfa-4081-8e3c-e71b88621e0e",
   "metadata": {},
   "source": [
    "### 3.3 Manipulating the Index\n",
    "\n",
    "You can manipulate the index in various ways, such as renaming individual labels or resetting the index to the default integer-based indexing."
   ]
  },
  {
   "cell_type": "markdown",
   "id": "f29f2626-81a1-4280-9533-f5806a176af8",
   "metadata": {},
   "source": [
    "- **Renaming an Index Label:**\n",
    "You can rename a specific index label using the rename() method:"
   ]
  },
  {
   "cell_type": "code",
   "execution_count": 12,
   "id": "df4162f1-c4f4-402c-8a8e-fb54360075eb",
   "metadata": {},
   "outputs": [
    {
     "name": "stdout",
     "output_type": "stream",
     "text": [
      "Computer    150\n",
      "Phone       250\n",
      "Tablet      350\n",
      "dtype: int64\n"
     ]
    }
   ],
   "source": [
    "# Renaming index labels\n",
    "ser_string = ser_string.rename({\"PC\": \"Computer\"})\n",
    "print(ser_string)"
   ]
  },
  {
   "cell_type": "markdown",
   "id": "620da008-e9d3-449f-97b1-178398199bc8",
   "metadata": {},
   "source": [
    "- **Resetting the Index:** You can reset the index back to the default integer index:"
   ]
  },
  {
   "cell_type": "code",
   "execution_count": 13,
   "id": "02f7de97-e681-491c-9a6a-5235a4b88078",
   "metadata": {},
   "outputs": [
    {
     "name": "stdout",
     "output_type": "stream",
     "text": [
      "0    150\n",
      "1    250\n",
      "2    350\n",
      "dtype: int64\n"
     ]
    }
   ],
   "source": [
    "# Resetting the index\n",
    "ser_reset = ser_string.reset_index(drop=True)\n",
    "print(ser_reset)"
   ]
  },
  {
   "cell_type": "markdown",
   "id": "0fe0b89f-1b6b-456f-8248-417811f3c20d",
   "metadata": {},
   "source": [
    "- **String Operations on Index Labels**: We can change the label case for example using the `str` method"
   ]
  },
  {
   "cell_type": "code",
   "execution_count": 17,
   "id": "1cc8f8d5-316d-4ab7-9caf-f0374cdd6b7f",
   "metadata": {},
   "outputs": [
    {
     "name": "stdout",
     "output_type": "stream",
     "text": [
      "a      0\n",
      "b    100\n",
      "c    200\n",
      "d    300\n",
      "e    400\n",
      "f    500\n",
      "g    600\n",
      "dtype: int64\n"
     ]
    }
   ],
   "source": [
    "ser.index = ser.index.str.lower()\n",
    "print(ser)"
   ]
  },
  {
   "cell_type": "markdown",
   "id": "7c474a84-557a-40d3-83ac-7b39e4de5f95",
   "metadata": {},
   "source": [
    "### Conclusion"
   ]
  },
  {
   "cell_type": "code",
   "execution_count": null,
   "id": "aced416f-5aac-4222-b00d-2223198aa037",
   "metadata": {},
   "outputs": [],
   "source": []
  }
 ],
 "metadata": {
  "kernelspec": {
   "display_name": "Python3.12",
   "language": "python",
   "name": "python3"
  },
  "language_info": {
   "codemirror_mode": {
    "name": "ipython",
    "version": 3
   },
   "file_extension": ".py",
   "mimetype": "text/x-python",
   "name": "python",
   "nbconvert_exporter": "python",
   "pygments_lexer": "ipython3",
   "version": "3.12.3"
  }
 },
 "nbformat": 4,
 "nbformat_minor": 5
}
