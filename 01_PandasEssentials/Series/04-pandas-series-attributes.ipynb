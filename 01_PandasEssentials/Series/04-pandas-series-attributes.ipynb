{
 "cells": [
  {
   "cell_type": "markdown",
   "id": "187653ef-8afc-4477-8718-2a07b9eacd85",
   "metadata": {},
   "source": [
    "# Lesson: Pandas Series Attributes\n",
    "## Objective:\n",
    " - **Understand commonly used attributes of the Pandas Series object**:\n",
    "    - Values\n",
    "    - Index\n",
    "    - dtype\n",
    "    - name\n",
    "    - ...  more.\n",
    "\n",
    "---\n",
    "\n",
    "**Author:** Dr. Saad Laouadi  \n",
    "**Copyright:** Dr. Saad Laouadi  \n",
    "\n",
    "---\n",
    "\n",
    "## License\n",
    "\n",
    "**This material is intended for educational purposes only and may not be used directly in courses, video recordings, or similar without prior consent from the author. When using or referencing this material, proper credit must be attributed to the author.**\n",
    "\n",
    "```text\n",
    "#**************************************************************************\n",
    "#* (C) Copyright 2024 by Dr. Saad Laouadi. All Rights Reserved.           *\n",
    "#**************************************************************************                                                                    \n",
    "#* DISCLAIMER: The author has used their best efforts in preparing        *\n",
    "#* this content. These efforts include development, research,             *\n",
    "#* and testing of the theories and programs to determine their            *\n",
    "#* effectiveness. The author makes no warranty of any kind,               *\n",
    "#* expressed or implied, with regard to these programs or                 *\n",
    "#* to the documentation contained within. The author shall not            *\n",
    "#* be liable in any event for incidental or consequential damages         *\n",
    "#* in connection with, or arising out of, the furnishing,                 *\n",
    "#* performance, or use of these programs.                                 *\n",
    "#*                                                                        *\n",
    "#* This content is intended for tutorials, online articles,               *\n",
    "#* and other educational purposes.                                        *\n",
    "#**************************************************************************\n",
    "```"
   ]
  },
  {
   "cell_type": "code",
   "execution_count": 1,
   "id": "4529850b-90ea-4108-b94a-55597268cd93",
   "metadata": {},
   "outputs": [],
   "source": [
    "# Env Setup \n",
    "import numpy as np\n",
    "import pandas as pd"
   ]
  },
  {
   "cell_type": "markdown",
   "id": "eeb3b8fa-5b9c-4aab-acdb-d983c7066730",
   "metadata": {},
   "source": [
    "### Generate a Random Series\n",
    "\n",
    "Let’s start by creating a random Pandas Series that will be used throughout this lesson. We will generate 10 random numbers between 1 and 100."
   ]
  },
  {
   "cell_type": "code",
   "execution_count": 3,
   "id": "4439d919-149f-4069-aca0-4bd89fef6ee9",
   "metadata": {},
   "outputs": [
    {
     "name": "stdout",
     "output_type": "stream",
     "text": [
      "0    45\n",
      "1    48\n",
      "2    65\n",
      "3    68\n",
      "4    68\n",
      "5    10\n",
      "6    84\n",
      "7    22\n",
      "8    37\n",
      "9    88\n",
      "Name: Random Numbers, dtype: int64\n"
     ]
    }
   ],
   "source": [
    "# Set the seed for reproducibility\n",
    "np.random.seed(0)\n",
    "\n",
    "# Creating a Series of random integers between 1 and 100\n",
    "ser = pd.Series(np.random.randint(1, 101, size=10), name=\"Random Numbers\")\n",
    "\n",
    "# Displaying the Series\n",
    "print(ser)"
   ]
  },
  {
   "cell_type": "markdown",
   "id": "abe1a824-e2dd-486d-b08f-d3f097230ad0",
   "metadata": {},
   "source": [
    "## Common Pandas Series Attributes\n",
    "Pandas Series comes with several built-in attributes that give useful metadata and information about the Series object. Let’s explore the most commonly used attributes.\n",
    "\n",
    "### 1. The `index` Attribute\n",
    "The `index` attribute provides the labels (index) of the Series."
   ]
  },
  {
   "cell_type": "code",
   "execution_count": 4,
   "id": "9fbaf276-f435-4db7-87c9-698cc9a4af18",
   "metadata": {},
   "outputs": [
    {
     "name": "stdout",
     "output_type": "stream",
     "text": [
      "RangeIndex(start=0, stop=10, step=1)\n"
     ]
    }
   ],
   "source": [
    "# Getting the index of the Series\n",
    "print(ser.index)"
   ]
  },
  {
   "cell_type": "markdown",
   "id": "612ce920-9ca9-49f8-8852-33631c3675b3",
   "metadata": {},
   "source": [
    "- The index is the row labels for each value in the Series.\n",
    "- By default, Pandas assigns a RangeIndex starting from 0.\n",
    "- The index can also be customized."
   ]
  },
  {
   "cell_type": "markdown",
   "id": "22df6c9d-55b2-4a51-9c64-52ff6453d655",
   "metadata": {},
   "source": [
    "### 2. The `values` Attribute\n",
    "The values attribute returns the underlying data of the Series as a NumPy array."
   ]
  },
  {
   "cell_type": "code",
   "execution_count": null,
   "id": "c303a669-4e8c-4f10-a444-5b4d2f42eba4",
   "metadata": {},
   "outputs": [],
   "source": [
    "# Getting the values of the Series\n",
    "print(random_series.values)"
   ]
  },
  {
   "cell_type": "markdown",
   "id": "78dddec6-862b-4274-89ec-6871ebd98477",
   "metadata": {},
   "source": [
    "The values are the actual data stored in the Series, without any indexing."
   ]
  },
  {
   "cell_type": "markdown",
   "id": "877881c6-3b9a-4507-adfa-192b3fb31f4e",
   "metadata": {},
   "source": [
    "### 3. The `dtype` Attribute\n",
    "The dtype attribute gives the data type of the values stored in the Series."
   ]
  },
  {
   "cell_type": "code",
   "execution_count": null,
   "id": "212ab8cc-104c-4fcd-aa09-39753cae53e5",
   "metadata": {},
   "outputs": [],
   "source": [
    "# Getting the data type of the Series\n",
    "print(random_series.dtype)"
   ]
  },
  {
   "cell_type": "markdown",
   "id": "76307a63-ddfe-42d7-9e33-eb3f91bffefa",
   "metadata": {},
   "source": [
    "In this case, the data type of the Series is int64, meaning all the values are 64-bit integers."
   ]
  },
  {
   "cell_type": "markdown",
   "id": "09c62f8e-bd51-48fa-b48a-4cae6a4af33d",
   "metadata": {},
   "source": [
    "### 4. The `name` Attribute\n",
    "The name attribute stores the name of the Series. We can access or change it."
   ]
  },
  {
   "cell_type": "code",
   "execution_count": null,
   "id": "3cdcb90f-60fa-4758-8d39-3dbc11984d15",
   "metadata": {},
   "outputs": [],
   "source": [
    "# Getting the name of the Series\n",
    "print(random_series.name)"
   ]
  },
  {
   "cell_type": "markdown",
   "id": "74ad3656-d0e4-42fe-9ca3-501697cd8247",
   "metadata": {},
   "source": [
    "The name can be useful for identification, especially when working with multiple Series.\n",
    "You can also change the name:"
   ]
  },
  {
   "cell_type": "code",
   "execution_count": null,
   "id": "2630c96f-0e0f-4548-8f93-8d9fc3abe7ba",
   "metadata": {},
   "outputs": [],
   "source": [
    "random_series.name = \"Updated Random Numbers\"\n",
    "print(random_series.name)"
   ]
  },
  {
   "cell_type": "markdown",
   "id": "5938de4e-44a7-409e-ad40-4247f4c56b94",
   "metadata": {},
   "source": [
    "### 5. The `size` Attribute\n",
    "The `size` attribute gives the total number of elements in the Series."
   ]
  },
  {
   "cell_type": "code",
   "execution_count": null,
   "id": "fa808eee-000a-4c4f-bb55-b76134a149eb",
   "metadata": {},
   "outputs": [],
   "source": [
    "# Getting the size of the Series\n",
    "print(random_series.size)"
   ]
  },
  {
   "cell_type": "markdown",
   "id": "3f1511bc-3fc3-489e-8b48-7ce4e58e868d",
   "metadata": {},
   "source": [
    "The size attribute tells us how many data points are in the Series."
   ]
  },
  {
   "cell_type": "markdown",
   "id": "4e724a4c-bec1-4e55-8201-528635926983",
   "metadata": {},
   "source": [
    "### 6. The `shape` Attribute\n",
    "The shape attribute returns a tuple representing the dimensionality of the Series."
   ]
  },
  {
   "cell_type": "code",
   "execution_count": null,
   "id": "4ae9eb52-3064-48ce-9125-ba15f166bd02",
   "metadata": {},
   "outputs": [],
   "source": [
    "# Getting the shape of the Series\n",
    "print(random_series.shape)"
   ]
  },
  {
   "cell_type": "markdown",
   "id": "10e0546b-d53d-4e35-acd6-e883428224ee",
   "metadata": {},
   "source": [
    "This is a one-dimensional object (Series), so the shape returns a tuple with one element."
   ]
  },
  {
   "cell_type": "markdown",
   "id": "1a291f6b-7b11-4117-ae26-6bb2343ab2dd",
   "metadata": {},
   "source": [
    "### 7. The `is_unique` Attribute\n",
    "The `is_unique` attribute tells us whether all the elements in the Series are unique."
   ]
  },
  {
   "cell_type": "code",
   "execution_count": null,
   "id": "23fef624-fa2a-4010-9ab6-7af077ff3bf9",
   "metadata": {},
   "outputs": [],
   "source": [
    "# Checking if all values in the Series are unique\n",
    "print(random_series.is_unique)"
   ]
  },
  {
   "cell_type": "markdown",
   "id": "e85b3448-9c6b-4da0-9d8e-4f0ad99d88d2",
   "metadata": {},
   "source": [
    "Since the value 75 appears twice in the Series, it is not unique."
   ]
  },
  {
   "cell_type": "markdown",
   "id": "e35ea127-1848-4c53-9c31-8ea0a838f924",
   "metadata": {},
   "source": [
    "### 8. The `isnull()` and `notnull()` Methods\n",
    "The `isnull()` method checks for missing values (NaNs) and returns a boolean Series. The `notnull()` method does the opposite, checking for non-null values."
   ]
  },
  {
   "cell_type": "code",
   "execution_count": null,
   "id": "f009d671-f551-4655-bbbe-702b37a0db99",
   "metadata": {},
   "outputs": [],
   "source": [
    "# Checking for null values\n",
    "print(random_series.isnull())\n",
    "\n",
    "# Checking for non-null values\n",
    "print(random_series.notnull())"
   ]
  },
  {
   "cell_type": "markdown",
   "id": "480e2ebf-ff9b-4b07-b224-3d5e042731fa",
   "metadata": {},
   "source": [
    "No missing values are present, so all entries are False for isnull()."
   ]
  },
  {
   "cell_type": "markdown",
   "id": "e1411f4e-ba6b-4e1e-817a-9808fb6cf59f",
   "metadata": {},
   "source": [
    "### 9. The `nbytes` Attribute\n",
    "The `nbytes` attribute tells us the total number of bytes consumed by the elements of the Series."
   ]
  },
  {
   "cell_type": "code",
   "execution_count": null,
   "id": "eee66f15-b400-45e0-b324-3ea4b6ce8be2",
   "metadata": {},
   "outputs": [],
   "source": [
    "# Getting the total number of bytes consumed by the Series\n",
    "print(random_series.nbytes)"
   ]
  },
  {
   "cell_type": "markdown",
   "id": "e1b49e84-41b7-41c1-b3f7-d904b7e9905c",
   "metadata": {},
   "source": [
    "Since we have 10 integers (each int64 takes 8 bytes), the total memory usage is 80 bytes."
   ]
  },
  {
   "cell_type": "markdown",
   "id": "ac2b20ba-6b97-49cd-99fd-95638ee9cf02",
   "metadata": {},
   "source": [
    "### 10. The `hasnans` Attribute\n",
    "\n",
    "The `hasnans` attribute checks whether the Series contains any missing values (NaNs)."
   ]
  },
  {
   "cell_type": "code",
   "execution_count": null,
   "id": "28cc3141-824c-4298-bd8a-b7c3d3bc97ca",
   "metadata": {},
   "outputs": [],
   "source": [
    "# Checking if the Series contains any NaN values\n",
    "print(random_series.hasnans)"
   ]
  },
  {
   "cell_type": "markdown",
   "id": "79970967-8e0d-4b98-a3af-41e6e7dab580",
   "metadata": {},
   "source": [
    "This confirms that no missing values (NaNs) are present in the Series."
   ]
  },
  {
   "cell_type": "markdown",
   "id": "727a371a-eff7-4ec0-92c7-edea0eea3e38",
   "metadata": {},
   "source": [
    "## Practical Example\n",
    "Now, let’s demonstrate the power of these attributes by checking for unique values and inspecting the memory usage of a Pandas Series."
   ]
  },
  {
   "cell_type": "code",
   "execution_count": null,
   "id": "8c8488e7-12b4-4807-b888-79bcf627660b",
   "metadata": {},
   "outputs": [],
   "source": [
    "# Example: Check for unique values and memory usage\n",
    "if not random_series.is_unique:\n",
    "    print(\"The Series contains duplicate values.\")\n",
    "else:\n",
    "    print(\"The Series has all unique values.\")\n",
    "\n",
    "# Display the memory usage\n",
    "print(f\"Memory usage of the Series: {random_series.nbytes} bytes\")"
   ]
  },
  {
   "cell_type": "markdown",
   "id": "e7b0a496-6995-45c5-ba29-145222f88dbc",
   "metadata": {},
   "source": [
    "## Conclusion\n",
    "In this lesson, we've explored some of the most useful attributes of the Pandas Series object, including:\n",
    " - **index**: Provides access to the labels.\n",
    " - **values**: Returns the underlying data.\n",
    " - **dtype**: Gives the data type of the Series.\n",
    " - **name**: Stores the name of the Series.\n",
    " - **size** and **shape**: Provide dimensionality information.\n",
    " - **is_unique**, **isnull()**, and **notnull()**: Help identify uniqueness and missing values.\n",
    " - **nbytes**: Gives memory usage information."
   ]
  },
  {
   "cell_type": "code",
   "execution_count": null,
   "id": "a0274824-8e72-4d32-8975-dfaeb263ebb7",
   "metadata": {},
   "outputs": [],
   "source": []
  }
 ],
 "metadata": {
  "kernelspec": {
   "display_name": "Python3.12",
   "language": "python",
   "name": "python3"
  },
  "language_info": {
   "codemirror_mode": {
    "name": "ipython",
    "version": 3
   },
   "file_extension": ".py",
   "mimetype": "text/x-python",
   "name": "python",
   "nbconvert_exporter": "python",
   "pygments_lexer": "ipython3",
   "version": "3.12.3"
  }
 },
 "nbformat": 4,
 "nbformat_minor": 5
}
