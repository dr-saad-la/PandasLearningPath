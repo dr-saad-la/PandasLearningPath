{
 "cells": [
  {
   "cell_type": "markdown",
   "metadata": {},
   "source": [
    "# Lesson: Pandas Series Rename Method\n",
    "## Objective:\n",
    " - **Understand rename method**:\n",
    "\n",
    "---\n",
    "\n",
    "**Author:** Dr. Saad Laouadi  \n",
    "**Copyright:** Dr. Saad Laouadi  \n",
    "\n",
    "---\n",
    "\n",
    "## License\n",
    "\n",
    "**This material is intended for educational purposes only and may not be used directly in courses, video recordings, or similar without prior consent from the author. When using or referencing this material, proper credit must be attributed to the author.**\n",
    "\n",
    "```text\n",
    "#**************************************************************************\n",
    "#* (C) Copyright 2024 by Dr. Saad Laouadi. All Rights Reserved.           *\n",
    "#**************************************************************************                                                                    \n",
    "#* DISCLAIMER: The author has used their best efforts in preparing        *\n",
    "#* this content. These efforts include development, research,             *\n",
    "#* and testing of the theories and programs to determine their            *\n",
    "#* effectiveness. The author makes no warranty of any kind,               *\n",
    "#* expressed or implied, with regard to these programs or                 *\n",
    "#* to the documentation contained within. The author shall not            *\n",
    "#* be liable in any event for incidental or consequential damages         *\n",
    "#* in connection with, or arising out of, the furnishing,                 *\n",
    "#* performance, or use of these programs.                                 *\n",
    "#*                                                                        *\n",
    "#* This content is intended for tutorials, online articles,               *\n",
    "#* and other educational purposes.                                        *\n",
    "#**************************************************************************\n",
    "```"
   ]
  },
  {
   "cell_type": "code",
   "execution_count": 1,
   "metadata": {},
   "outputs": [],
   "source": [
    "# Env Setup\n",
    "import string\n",
    "import numpy as np\n",
    "import pandas as pd"
   ]
  },
  {
   "cell_type": "code",
   "execution_count": 2,
   "metadata": {},
   "outputs": [
    {
     "name": "stdout",
     "output_type": "stream",
     "text": [
      "a    100\n",
      "b    200\n",
      "c    300\n",
      "d    400\n",
      "e    500\n",
      "Name: Numbers, dtype: int64\n"
     ]
    }
   ],
   "source": [
    "# Generate a lesson Example\n",
    "\n",
    "data = np.arange(100, 501, 100)\n",
    "idx = list(string.ascii_lowercase[:5])\n",
    "ser = pd.Series(data=data,\n",
    "                index=idx,\n",
    "                name = \"Numbers\")\n",
    "print(ser)"
   ]
  },
  {
   "cell_type": "markdown",
   "metadata": {},
   "source": [
    "## The `rename()` Method\n",
    "\n",
    "## Pandas `Series.rename()` Method\n",
    "\n",
    "The `Series.rename()` method is used to alter the index labels or the name of a Pandas Series. It allows for the transformation of index labels based on a function, dictionary, or scalar value. This method can also change the `name` attribute of a Series.\n",
    "\n",
    "### Syntax:\n",
    "```python\n",
    "Series.rename(index=None,\n",
    "              *,\n",
    "              axis=None,\n",
    "              copy=None,\n",
    "              inplace=False,\n",
    "              level=None,\n",
    "              errors='ignore')\n",
    "```\n",
    "\n",
    "**Parameters:**\n",
    "\n",
    "- `index`: This parameter accepts either a scalar, a hashable sequence, a dict-like object, or a function. These values are applied as transformations to modify the index labels.\n",
    "    - Scalar in this context refers to a single value, as opposed to a collection or sequence. In this context, when you provide a scalar value for the index parameter, it is treated as a single, constant value that may be applied to modify or rename the entire index (e.g., the name of the index or all labels). Scalars can include numbers, single strings, or any other single value.\n",
    "    - If a dict or Series is provided, it will map the current index labels to new ones. The values in the dictionary or Series must be unique (1-to-1 mapping).\n",
    "    - If a function is provided, it will be applied to the current index labels to generate new ones.\n",
    "  - If a scalar is provided, it will alter the name attribute of the Series.\n",
    "- `axis`: (Default: None) This parameter is not used for Series, but it is kept for compatibility with DataFrames.\n",
    "- `copy`: (Default: True) If set to True, the underlying data is copied. Note that starting with pandas 3.0, copy-on-write behavior will change, making the copy mechanism lazy and the copy parameter will be removed in future versions.\n",
    "- `inplace`: (Default: False) If set to True, the method will modify the Series in place and return None. Otherwise, it returns a new Series with the altered labels or name.\n",
    "- `level`: (Default: None) In case the Series has a MultiIndex, this parameter specifies which level’s labels should be renamed.\n",
    "- `errors`: (Default: 'ignore') If set to 'raise', the method will raise a `KeyError` if any of the provided labels do not exist in the Series index. If set to 'ignore', only the existing keys will be renamed, and extra keys will be ignored.\n",
    "\n",
    "**Returns:**\n",
    "\n",
    "- `Series` or `None`: A Series with renamed index labels or name is returned if `inplace=False`. If `inplace=True`, the original Series is modified, and `None` is returned."
   ]
  },
  {
   "cell_type": "markdown",
   "metadata": {},
   "source": [
    "## Renaming the Series Name Using Scalar \n",
    "\n",
    "### Series Name (name attribute):\n",
    "\n",
    "This is **the name of the Series** itself and is set when the Series is declared using the name parameter. This name is associated with the entire Series and is used when printing or when the Series is part of a DataFrame. You can change this Series-level name using the rename method when passing a scalar value to the index parameter."
   ]
  },
  {
   "cell_type": "code",
   "execution_count": 3,
   "metadata": {},
   "outputs": [
    {
     "name": "stdout",
     "output_type": "stream",
     "text": [
      "a    1\n",
      "b    2\n",
      "c    3\n",
      "Name: Default, dtype: int64\n"
     ]
    }
   ],
   "source": [
    "# Create a simple Series with a name\n",
    "s = pd.Series([1, 2, 3],\n",
    "              index=['a', 'b', 'c'], \n",
    "              name=\"Default\")\n",
    "print(s)"
   ]
  },
  {
   "cell_type": "markdown",
   "metadata": {},
   "source": [
    "Now, renaming the Series name using the rename method:"
   ]
  },
  {
   "cell_type": "code",
   "execution_count": 4,
   "metadata": {},
   "outputs": [
    {
     "name": "stdout",
     "output_type": "stream",
     "text": [
      "a    1\n",
      "b    2\n",
      "c    3\n",
      "Name: NewSeriesName, dtype: int64\n"
     ]
    }
   ],
   "source": [
    "# Rename the Series' name\n",
    "s = s.rename(index = \"NewSeriesName\")\n",
    "print(s)"
   ]
  },
  {
   "cell_type": "markdown",
   "metadata": {},
   "source": [
    "What this actually does is `rename` the Series itself, not its index labels. Passing a scalar (like \"NewSeriesName\") to the index parameter will change the Series name, even though it seems like it’s modifying the index because of the index parameter label."
   ]
  },
  {
   "cell_type": "code",
   "execution_count": 5,
   "metadata": {},
   "outputs": [
    {
     "name": "stdout",
     "output_type": "stream",
     "text": [
      "a    100\n",
      "b    200\n",
      "c    300\n",
      "d    400\n",
      "e    500\n",
      "Name: Integers, dtype: int64\n"
     ]
    }
   ],
   "source": [
    "# Here is another example\n",
    "print(ser.rename(\"Integers\"))"
   ]
  },
  {
   "cell_type": "markdown",
   "metadata": {},
   "source": [
    "### Renaming Index Labels Using a Dictionary\n",
    "\n",
    "To rename or modify the series, we can pass a dict object to the rename `index` parameter. "
   ]
  },
  {
   "cell_type": "code",
   "execution_count": 6,
   "metadata": {},
   "outputs": [
    {
     "name": "stdout",
     "output_type": "stream",
     "text": [
      "alpha    100\n",
      "beta     200\n",
      "c        300\n",
      "d        400\n",
      "e        500\n",
      "Name: Numbers, dtype: int64\n"
     ]
    }
   ],
   "source": [
    "# Renaming index labels using a dictionary\n",
    "new_ser = ser.rename(index={'a': 'alpha', 'b': 'beta'})\n",
    "print(new_ser)"
   ]
  },
  {
   "cell_type": "markdown",
   "metadata": {},
   "source": [
    "### Using a Function to Rename Index Labels"
   ]
  },
  {
   "cell_type": "code",
   "execution_count": 7,
   "metadata": {},
   "outputs": [
    {
     "name": "stdout",
     "output_type": "stream",
     "text": [
      "A    100\n",
      "B    200\n",
      "C    300\n",
      "D    400\n",
      "E    500\n",
      "Name: Numbers, dtype: int64\n"
     ]
    }
   ],
   "source": [
    "# Renaming index labels using a function\n",
    "new_ser = ser.rename(index=lambda x: x.upper())\n",
    "print(new_ser)"
   ]
  },
  {
   "cell_type": "code",
   "execution_count": 8,
   "metadata": {},
   "outputs": [
    {
     "name": "stdout",
     "output_type": "stream",
     "text": [
      "a    100\n",
      "b    200\n",
      "c    300\n",
      "d    400\n",
      "e    500\n",
      "Name: Numbers, dtype: int64\n"
     ]
    }
   ],
   "source": [
    "# Using another function\n",
    "print(ser.rename(str.lower))"
   ]
  },
  {
   "cell_type": "markdown",
   "metadata": {},
   "source": [
    "### Adding Prefix"
   ]
  },
  {
   "cell_type": "code",
   "execution_count": 9,
   "metadata": {},
   "outputs": [
    {
     "name": "stdout",
     "output_type": "stream",
     "text": [
      "X_a    100\n",
      "X_b    200\n",
      "X_c    300\n",
      "X_d    400\n",
      "X_e    500\n",
      "Name: Numbers, dtype: int64\n"
     ]
    }
   ],
   "source": [
    "print(ser.add_prefix('X_'))"
   ]
  },
  {
   "cell_type": "markdown",
   "metadata": {},
   "source": [
    "### Adding Suffix"
   ]
  },
  {
   "cell_type": "code",
   "execution_count": 10,
   "metadata": {},
   "outputs": [
    {
     "name": "stdout",
     "output_type": "stream",
     "text": [
      "a_X    100\n",
      "b_X    200\n",
      "c_X    300\n",
      "d_X    400\n",
      "e_X    500\n",
      "Name: Numbers, dtype: int64\n"
     ]
    }
   ],
   "source": [
    "print(ser.add_suffix('_X'))"
   ]
  },
  {
   "cell_type": "markdown",
   "metadata": {},
   "source": [
    "### Setting Axis"
   ]
  },
  {
   "cell_type": "code",
   "execution_count": 11,
   "metadata": {},
   "outputs": [
    {
     "name": "stdout",
     "output_type": "stream",
     "text": [
      "V    100\n",
      "W    200\n",
      "X    300\n",
      "Y    400\n",
      "Z    500\n",
      "Name: Numbers, dtype: int64\n"
     ]
    }
   ],
   "source": [
    "idx = list(string.ascii_uppercase)[-5:]\n",
    "print(ser.set_axis(idx))"
   ]
  },
  {
   "cell_type": "markdown",
   "metadata": {},
   "source": [
    "### Set Index using `index` attribute"
   ]
  },
  {
   "cell_type": "code",
   "execution_count": 12,
   "metadata": {},
   "outputs": [
    {
     "name": "stdout",
     "output_type": "stream",
     "text": [
      "M    100\n",
      "P    200\n",
      "V    300\n",
      "A    400\n",
      "D    500\n",
      "Name: Numbers, dtype: int64\n"
     ]
    }
   ],
   "source": [
    "np.random.seed(0)\n",
    "ser.index = np.random.choice(list(string.ascii_uppercase), size=5)\n",
    "print(ser)"
   ]
  },
  {
   "cell_type": "markdown",
   "metadata": {},
   "source": [
    "---"
   ]
  },
  {
   "cell_type": "markdown",
   "metadata": {},
   "source": [
    "### Warnings \n",
    "- The `rename()` method has multiple behaviors depending on the arguments passed.\n",
    "- If you pass a dictionary or function to the index parameter, it will change the labels of the index.\n",
    "- However, when you pass a scalar to index, it treats it as the new name for the Series, not for the index labels themselves.\n",
    "\n",
    "This is not intuitive because the method parameter is called `index`. The behavior you expect from index (changing the labels) occurs when you pass a dictionary or function. When you pass a scalar to the index parameter, it acts as a shorthand to rename the Series instead of renaming the index labels. \n",
    "\n",
    "### Index Name (index.name attribute):\n",
    "\n",
    "This is the name of the index itself, not the Series. The `index.name` attribute is used to assign a name to the index labels collectively. It doesn’t rename the index labels themselves but provides a label for the entire index."
   ]
  },
  {
   "cell_type": "code",
   "execution_count": 13,
   "metadata": {},
   "outputs": [
    {
     "name": "stdout",
     "output_type": "stream",
     "text": [
      "IndexName\n",
      "a    1\n",
      "b    2\n",
      "c    3\n",
      "Name: NewSeriesName, dtype: int64\n"
     ]
    }
   ],
   "source": [
    "# Create a Series and assign a name to the index\n",
    "s.index.name = \"IndexName\"\n",
    "print(s)"
   ]
  },
  {
   "cell_type": "markdown",
   "metadata": {},
   "source": [
    "Here, the name of the index is \"IndexName\", and it appears above the index labels ('a', 'b', 'c').\n",
    "\n",
    "- **Key Difference**:\n",
    " - Series Name (set using name or renamed using rename method) is the name of the entire Series object.\n",
    "\t- Index Name (set using index.name) is the name of the index itself, which appears above the index labels."
   ]
  },
  {
   "cell_type": "code",
   "execution_count": 14,
   "metadata": {},
   "outputs": [
    {
     "name": "stdout",
     "output_type": "stream",
     "text": [
      "a    1\n",
      "b    2\n",
      "c    3\n",
      "Name: Default, dtype: int64\n",
      "a    1\n",
      "b    2\n",
      "c    3\n",
      "Name: NewSeriesName, dtype: int64\n",
      "NewerIndex\n",
      "a    1\n",
      "b    2\n",
      "c    3\n",
      "Name: NewSeriesName, dtype: int64\n"
     ]
    }
   ],
   "source": [
    "# Create a Series with both a name and index labels\n",
    "s = pd.Series([1, 2, 3],\n",
    "              index=['a', 'b', 'c'],\n",
    "              name=\"Default\")\n",
    "print(s)\n",
    "\n",
    "# Rename the Series' name\n",
    "s = s.rename(\"NewSeriesName\")\n",
    "print(s)\n",
    "\n",
    "# Set a name for the index\n",
    "s.index.name = \"NewerIndex\"\n",
    "print(s)"
   ]
  },
  {
   "cell_type": "code",
   "execution_count": 15,
   "metadata": {},
   "outputs": [
    {
     "name": "stdout",
     "output_type": "stream",
     "text": [
      "a    1\n",
      "b    2\n",
      "c    3\n",
      "Name: Default, dtype: int64\n",
      "a    1\n",
      "b    2\n",
      "c    3\n",
      "Name: NewSeriesName, dtype: int64\n",
      "x    1\n",
      "y    2\n",
      "z    3\n",
      "Name: NewSeriesName, dtype: int64\n",
      "IndexName\n",
      "x    1\n",
      "y    2\n",
      "z    3\n",
      "Name: NewSeriesName, dtype: int64\n"
     ]
    }
   ],
   "source": [
    "# Create a simple Series\n",
    "s = pd.Series([1, 2, 3], index=['a', 'b', 'c'], name=\"Default\")\n",
    "print(s)\n",
    "\n",
    "# Rename the Series' name (confusing use of `index`)\n",
    "s = s.rename(index=\"NewSeriesName\")\n",
    "print(s)  # This renames the Series name, not the index labels\n",
    "\n",
    "# Correct way to rename index labels (using a dictionary)\n",
    "s = s.rename(index={\"a\": \"x\", \"b\": \"y\", \"c\": \"z\"})\n",
    "print(s)\n",
    "\n",
    "# Assign a name to the index itself\n",
    "s.index.name = \"IndexName\"\n",
    "print(s)"
   ]
  },
  {
   "cell_type": "markdown",
   "metadata": {},
   "source": [
    "## Conclusion\n",
    "1.\tYou can rename the index labels using a dictionary, function, or scalar value.\n",
    "2.\tThe method can also change the Series’ name by passing a scalar to the index parameter.\n",
    "3.\tIf using inplace=True, the original Series is modified without returning a new Series."
   ]
  },
  {
   "cell_type": "code",
   "execution_count": null,
   "metadata": {},
   "outputs": [],
   "source": []
  }
 ],
 "metadata": {
  "kernelspec": {
   "display_name": "Python3.12",
   "language": "python",
   "name": "python3"
  },
  "language_info": {
   "codemirror_mode": {
    "name": "ipython",
    "version": 3
   },
   "file_extension": ".py",
   "mimetype": "text/x-python",
   "name": "python",
   "nbconvert_exporter": "python",
   "pygments_lexer": "ipython3",
   "version": "3.12.3"
  }
 },
 "nbformat": 4,
 "nbformat_minor": 4
}
